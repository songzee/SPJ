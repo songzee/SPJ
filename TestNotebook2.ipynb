{
 "cells": [
  {
   "cell_type": "code",
   "execution_count": 9,
   "metadata": {
    "scrolled": true
   },
   "outputs": [
    {
     "name": "stdout",
     "output_type": "stream",
     "text": [
      "The autoreload extension is already loaded. To reload it, use:\n",
      "  %reload_ext autoreload\n"
     ]
    }
   ],
   "source": [
    "# As usual, a bit of setup\n",
    "import time\n",
    "from time import process_time\n",
    "import numpy as np\n",
    "import matplotlib.pyplot as plt\n",
    "import LOUPE.WILLOW.loupe as lp\n",
    "import tensorflow as tf\n",
    "import h5py\n",
    "import pandas as pd\n",
    "import csv\n",
    "import copy\n",
    "import math\n",
    "from utils.data_utils import *\n",
    "import sys\n",
    "import re\n",
    "from utils.spj import Config\n",
    "from utils.spj import SPJ\n",
    "%matplotlib inline\n",
    "plt.rcParams['figure.figsize'] = (10.0, 8.0) # set default size of plots\n",
    "plt.rcParams['image.interpolation'] = 'nearest'\n",
    "plt.rcParams['image.cmap'] = 'gray'\n",
    "\n",
    "# for auto-reloading external modules\n",
    "# see http://stackoverflow.com/questions/1907993/autoreload-of-modules-in-ipython\n",
    "%load_ext autoreload\n",
    "%autoreload 2"
   ]
  },
  {
   "cell_type": "code",
   "execution_count": 11,
   "metadata": {},
   "outputs": [
    {
     "name": "stdout",
     "output_type": "stream",
     "text": [
      "num_c3d_features:  500\n",
      "num_proposals:  30\n",
      "num_classes:  1048\n",
      "num_classes:  1048\n",
      "num_steps:  50\n",
      "hidden_dim:  512\n",
      "batch_size:  9\n",
      "layers:  2\n",
      "eps:  1e-10\n"
     ]
    }
   ],
   "source": [
    "config = Config()\n",
    "print(\"num_c3d_features: \", config.num_c3d_features)\n",
    "print(\"num_proposals: \", config.num_proposals)\n",
    "print(\"num_classes: \", config.num_classes)\n",
    "print(\"num_classes: \", config.num_classes)\n",
    "print(\"num_steps: \", config.num_steps)\n",
    "print(\"hidden_dim: \", config.hidden_dim)\n",
    "print(\"batch_size: \", config.batch_size)\n",
    "print(\"layers: \", config.num_layers)\n",
    "print(\"eps: \", config.eps)\n",
    "\n"
   ]
  },
  {
   "cell_type": "markdown",
   "metadata": {},
   "source": [
    "# Training Data"
   ]
  },
  {
   "cell_type": "markdown",
   "metadata": {},
   "source": [
    "Load small training data set"
   ]
  },
  {
   "cell_type": "code",
   "execution_count": 12,
   "metadata": {},
   "outputs": [
    {
     "name": "stdout",
     "output_type": "stream",
     "text": [
      "number of examples:  99\n",
      "train_data.shape:  (590, 508)\n",
      "padded_proposals.shape:  (99, 500, 30)\n",
      "padded_framestamps.shape:  (99, 2, 30)\n"
     ]
    }
   ],
   "source": [
    "train_ids,train_data,padded_proposals,padded_framestamps = video_preprocess()"
   ]
  },
  {
   "cell_type": "markdown",
   "metadata": {},
   "source": [
    "# Get word2id in sentences"
   ]
  },
  {
   "cell_type": "code",
   "execution_count": 13,
   "metadata": {},
   "outputs": [
    {
     "name": "stdout",
     "output_type": "stream",
     "text": [
      "Total number of words in all captions:  504895\n",
      "Vocabulary Size (Unique):  13001\n",
      "all_padded_sentences_2.shape:  (99, 51, 30)\n"
     ]
    }
   ],
   "source": [
    "embedding_size =512\n",
    "vocabulary,vocab_size = caption_preprocess()\n",
    "emb_matrix,word2id,id2word = get_wordvector(embedding_size,vocab_size,vocabulary)\n",
    "pad_len = 50\n",
    "all_padded_sentences,all_padded_sentences_2,all_padded_sentences_id = get_padded_sentences_id(pad_len,train_ids, train_data, word2id)     \n",
    "print(\"all_padded_sentences_2.shape: \", all_padded_sentences_2.shape)\n"
   ]
  },
  {
   "cell_type": "code",
   "execution_count": 15,
   "metadata": {},
   "outputs": [],
   "source": [
    "tf.reset_default_graph()\n",
    "config = Config()\n",
    "model = SPJ(config)"
   ]
  },
  {
   "cell_type": "markdown",
   "metadata": {},
   "source": [
    "# Training Model"
   ]
  },
  {
   "cell_type": "code",
   "execution_count": 21,
   "metadata": {},
   "outputs": [],
   "source": [
    "def model(H_train, Ipast_train, Ifuture_train, Ycaptions_train, Xcaptions_train,word2id_len,learning_rate, num_epochs = 5, minibatch_size = 9, print_cost = True,num_layers = 2,hidden_dim = 512):\n",
    "    \"\"\"\n",
    "    Implements a tensorflow neural network: C3D->DAPS->ATTENTION->CAPTIONING\n",
    "    \n",
    "    Arguments:\n",
    "    H_train -- training set, of shape = [n_train,num_c3d_features,num_proposals]\n",
    "    Y_train -- caption labels, of shape = [n_train,num_proposals,num_steps+1]\n",
    "    H_test -- training set, of shape = [n_test,num_c3d_features,num_proposals]\n",
    "    Y_test -- caption labels, of shape = [n_test,num_proposals,num_steps+1]\n",
    "    learning_rate -- learning rate of the optimization\n",
    "    num_epochs -- number of epochs of the optimization loop\n",
    "    minibatch_size -- size of a minibatch\n",
    "    print_cost -- True to print the cost every 100 epochs\n",
    "    \n",
    "    Returns:\n",
    "    parameters -- parameters learnt by the model. They can then be used to predict.\n",
    "    \"\"\"\n",
    "    checkpoint_dir = \"/home/martnzjulio_a/checkpoints/\"\n",
    "    \n",
    "    batch_size = minibatch_size\n",
    "    \n",
    "    # to be able to rerun the model without overwriting tf variables\n",
    "    tf.reset_default_graph()    \n",
    "    \n",
    "    # to keep consistent results\n",
    "    tf.set_random_seed(1)                             \n",
    "    seed = 3                                         \n",
    "    \n",
    "    # size values\n",
    "    (n_train,num_c3d_features,num_proposals) = H_train.shape                        \n",
    "    (_,_,num_steps) = Xcaptions_train.shape\n",
    "    num_classes = word2id_len\n",
    "    \n",
    "    #print(\"n_train \", n_train)\n",
    "    #print(\"num_c3d_features \", num_c3d_features)\n",
    "    #print(\"num_proposals: \", num_proposals)\n",
    "    #print(\"num_steps: \", num_steps)\n",
    "    \n",
    "    # to keep track of costs\n",
    "    costs = []\n",
    "    \n",
    "    # keep track of global epoch number\n",
    "    global_step = tf.Variable(0, name='global_step', trainable=False)\n",
    "    \n",
    "    # create placeholders\n",
    "    H = tf.placeholder(tf.float32,shape=[batch_size, num_c3d_features, num_proposals], name=\"H\")\n",
    "    Ipast = tf.placeholder(tf.float32, shape=[batch_size, num_proposals, num_proposals], name=\"Ipast\")\n",
    "    Ifuture = tf.placeholder(tf.float32, shape=[batch_size, num_proposals, num_proposals], name=\"Ifuture\")\n",
    "    x = tf.placeholder(tf.int32, [batch_size, num_proposals, num_steps], name=\"x\")\n",
    "    y = tf.placeholder(tf.int32, [batch_size, num_proposals, num_steps+1], name=\"y\")\n",
    "    \n",
    "    # Model\n",
    "    config = Config()\n",
    "    spj = SPJ(config)\n",
    "    \n",
    "    # Backpropagation: Define the tensorflow optimizer. Use an AdamOptimizer.\n",
    "    ### START CODE HERE ### (1 line)\n",
    "    optimizer = tf.train.AdamOptimizer(learning_rate = learning_rate).minimize(spj.loss, global_step=global_step)\n",
    "    ### END CODE HERE ###\n",
    "    \n",
    "    # Initialize all the variables\n",
    "    init = tf.global_variables_initializer()\n",
    "    \n",
    "    # Add ops to save and restore all the variables.\n",
    "    saver = tf.train.Saver()\n",
    "\n",
    "    # Start the session to compute the tensorflow graph\n",
    "    with tf.Session() as sess:\n",
    "           \n",
    "        # check for latest checkpoint\n",
    "        latest_checkpoint = tf.train.latest_checkpoint(checkpoint_dir)\n",
    "        if latest_checkpoint == None:\n",
    "            # If no check point run the initialization\n",
    "            print(\"No checkpint exists, initializing parameters...\")\n",
    "            sess.run(init)\n",
    "        else:\n",
    "            print(\"Restoring from latest checkpoint...\")\n",
    "            saver.restore(sess, latest_checkpoint)\n",
    "        \n",
    "        # Do the training loop\n",
    "        start = process_time()\n",
    "        for epoch in range(num_epochs):\n",
    "            #print(\"epoch: \", epoch)\n",
    "\n",
    "            epoch_cost = 0.                       # Defines a cost related to an epoch\n",
    "            num_minibatches = int(n_train / config.batch_size) # number of minibatches of size minibatch_size in the train set\n",
    "            seed = seed + 1\n",
    "            minibatches = random_mini_batches(H_train, Ipast_train, Ifuture_train, Ycaptions_train, Xcaptions_train, minibatch_size, seed = 0)\n",
    "\n",
    "            for counter,minibatch in enumerate(minibatches):\n",
    "                #print(\"counter: \", counter)\n",
    "\n",
    "                # Select a minibatch\n",
    "                (minibatch_H, minibatch_Ipast, minibatch_Ifuture, minibatch_Ycaptions, minibatch_Xcaptions) = minibatch\n",
    "                #print(\"minibatch_H.shape: \", minibatch_H.shape)\n",
    "                #print(\"minibatch_Ipast.shape: \", minibatch_Ipast.shape)\n",
    "                #print(\"minibatch_Ifuture.shape: \", minibatch_Ifuture.shape)\n",
    "                #print(\"minibatch_Ycaptions.shape: \", minibatch_Ycaptions.shape)\n",
    "                #print(\"minibatch_Xcaptions.shape: \", minibatch_Xcaptions.shape)\n",
    "                \n",
    "                # The line that runs the graph on a minibatch.\n",
    "                _ , minibatch_cost = sess.run([optimizer, spj.loss], feed_dict={spj._H: minibatch_H, spj._Ipast: minibatch_Ipast, spj._Ifuture: minibatch_Ifuture, spj._x: minibatch_Xcaptions, spj._y: minibatch_Ycaptions})\n",
    "\n",
    "                epoch_cost += minibatch_cost / num_minibatches\n",
    "                \n",
    "            # print cost every epoch\n",
    "            if print_cost == True:\n",
    "                print (\"Cost after epoch %i: %f\" % (epoch, epoch_cost))\n",
    "                costs.append(epoch_cost)\n",
    "            \n",
    "            # We save our model\n",
    "            if epoch % 20 == 0:\n",
    "                saver.save(sess, checkpoint_dir + 'model', global_step = global_step) # write_meta_graph=False\n",
    "                    \n",
    "        end = process_time()   \n",
    "        print(\"time elapased: \", end - start)\n",
    "        print()\n",
    "        # plot the cost\n",
    "        final_costs = np.squeeze(costs)\n",
    "        plt.plot(final_costs)\n",
    "        plt.ylabel('cost')\n",
    "        plt.xlabel('iterations (per tens)')\n",
    "        plt.title(\"Learning rate =\" + str(learning_rate))\n",
    "        plt.show()\n",
    "\n",
    "        # lets save the parameters in a variable\n",
    "        #parameters = sess.run(parameters)\n",
    "        #print (\"Parameters have been trained!\")\n",
    "\n",
    "        # Calculate the correct predictions\n",
    "        #correct_prediction = tf.equal(tf.argmax(Z3), tf.argmax(Y))\n",
    "\n",
    "        # Calculate accuracy on the test set\n",
    "        #accuracy = tf.reduce_mean(tf.cast(correct_prediction, \"float\"))\n",
    "\n",
    "        #print (\"Train Accuracy:\", accuracy.eval({X: X_train, Y: Y_train}))\n",
    "        #print (\"Test Accuracy:\", accuracy.eval({X: X_test, Y: Y_test}))\n",
    "        \n",
    "        return 0"
   ]
  },
  {
   "cell_type": "code",
   "execution_count": 22,
   "metadata": {
    "scrolled": false
   },
   "outputs": [
    {
     "name": "stdout",
     "output_type": "stream",
     "text": [
      "No checkpint exists, initializing parameters...\n",
      "Cost after epoch 0: nan\n",
      "Cost after epoch 1: nan\n",
      "Cost after epoch 2: nan\n",
      "Cost after epoch 3: nan\n",
      "Cost after epoch 4: nan\n",
      "time elapased:  20.391663349\n",
      "\n"
     ]
    },
    {
     "data": {
      "image/png": "[encoded data removed]",
      "text/plain": [
       "<matplotlib.figure.Figure at 0x7f011c800be0>"
      ]
     },
     "metadata": {},
     "output_type": "display_data"
    },
    {
     "data": {
      "text/plain": [
       "0"
      ]
     },
     "execution_count": 22,
     "metadata": {},
     "output_type": "execute_result"
    }
   ],
   "source": [
    "# Test Case\n",
    "\n",
    "# input features\n",
    "H = padded_proposals.astype(np.float32)\n",
    "\n",
    "# input framstamps [f_init, f_end]\n",
    "framestamps = padded_framestamps\n",
    "\n",
    "# Indicators for past and future\n",
    "Ipast = temporal_indicator(framestamps, mode=\"past\").astype(np.float32)\n",
    "Ifuture = temporal_indicator(framestamps, mode=\"future\").astype(np.float32)\n",
    "\n",
    "# Word Embedding Matrix\n",
    "emb_matrix, word2id, id2word = get_wordvector(embedding_size,vocab_size,vocabulary) #changed by Songze\n",
    "\n",
    "sentence_ids = all_padded_sentences_id\n",
    "Ycaptions = copy.deepcopy(all_padded_sentences_2) \n",
    "Xcaptions = copy.deepcopy(all_padded_sentences)\n",
    "Xcaptions = np.transpose(Xcaptions,axes=(0,2,1)).astype(np.int32)\n",
    "Ycaptions = np.transpose(Ycaptions,axes=(0,2,1)).astype(np.int32)\n",
    "\n",
    "learning_rate = 0.001\n",
    "num_epochs = 5\n",
    "model(H, Ipast, Ifuture, Ycaptions, Xcaptions,len(word2id), learning_rate, num_epochs)"
   ]
  }
 ],
 "metadata": {
  "kernelspec": {
   "display_name": "Python 3",
   "language": "python",
   "name": "python3"
  },
  "language_info": {
   "codemirror_mode": {
    "name": "ipython",
    "version": 3
   },
   "file_extension": ".py",
   "mimetype": "text/x-python",
   "name": "python",
   "nbconvert_exporter": "python",
   "pygments_lexer": "ipython3",
   "version": "3.6.4"
  }
 },
 "nbformat": 4,
 "nbformat_minor": 2
}
