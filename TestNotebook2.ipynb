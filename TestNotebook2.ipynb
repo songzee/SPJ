{
 "cells": [
  {
   "cell_type": "code",
   "execution_count": 2,
   "metadata": {},
   "outputs": [
    {
     "name": "stdout",
     "output_type": "stream",
     "text": [
      "The autoreload extension is already loaded. To reload it, use:\n",
      "  %reload_ext autoreload\n"
     ]
    }
   ],
   "source": [
    "# As usual, a bit of setup\n",
    "import time\n",
    "from time import process_time\n",
    "import numpy as np\n",
    "import matplotlib.pyplot as plt\n",
    "import LOUPE.WILLOW.loupe as lp\n",
    "import tensorflow as tf\n",
    "import h5py\n",
    "import pandas as pd\n",
    "import csv\n",
    "import copy\n",
    "import math\n",
    "from utils.data_utils import *\n",
    "import sys\n",
    "import re\n",
    "from utils.spj import Config\n",
    "from utils.spj import SPJ\n",
    "%matplotlib inline\n",
    "plt.rcParams['figure.figsize'] = (10.0, 8.0) # set default size of plots\n",
    "plt.rcParams['image.interpolation'] = 'nearest'\n",
    "plt.rcParams['image.cmap'] = 'gray'\n",
    "\n",
    "# for auto-reloading external modules\n",
    "# see http://stackoverflow.com/questions/1907993/autoreload-of-modules-in-ipython\n",
    "%load_ext autoreload\n",
    "%autoreload 2\n",
    "\n",
    "home_dir = \"/home/martnzjulio_a/songze\"\n",
    "#home_dir = \"/home/songzeli\""
   ]
  },
  {
   "cell_type": "code",
   "execution_count": 3,
   "metadata": {},
   "outputs": [],
   "source": [
    "def model(all_train, all_val, learning_rate, num_epochs, minibatch_size, num_steps, print_cost = True):\n",
    "    \"\"\"\n",
    "    Implements a tensorflow neural network: C3D->ATTENTION->CAPTIONING\n",
    "    \n",
    "    Arguments:\n",
    "    H_train -- training set, of shape = [n_train,num_c3d_features,num_proposals]\n",
    "    Y_train -- caption labels, of shape = [n_train,num_proposals,num_steps+1]\n",
    "    H_test -- training set, of shape = [n_test,num_c3d_features,num_proposals]\n",
    "    Y_test -- caption labels, of shape = [n_test,num_proposals,num_steps+1]\n",
    "    learning_rate -- learning rate of the optimization\n",
    "    num_epochs -- number of epochs of the optimization loop\n",
    "    minibatch_size -- size of a minibatch\n",
    "    print_cost -- True to print the cost every 100 epochs\n",
    "    \n",
    "    Returns:\n",
    "    parameters -- parameters learnt by the model. They can then be used to predict.\n",
    "    \"\"\"\n",
    "    (H_train, Ipast_train, Ifuture_train, Ycaptions_train, Xcaptions_train) = all_train\n",
    "    (H_val,   Ipast_val,   Ifuture_val,   Ycaptions_val,   Xcaptions_val)   = all_val\n",
    "    \n",
    "    \n",
    "    # Directory to Save Checkpoint\n",
    "    checkpoint_dir = home_dir + \"/checkpoints/\"\n",
    "    tensorboard_dir =  home_dir + \"/tensorboard/\"\n",
    "    \n",
    "    # Reset Graph\n",
    "    tf.reset_default_graph()    \n",
    "    \n",
    "    # For Consistency\n",
    "    tf.set_random_seed(1)                             \n",
    "    seed = 3                                         \n",
    "    \n",
    "    # Number of Training Examples\n",
    "    num_train = H_train.shape[0] \n",
    "    num_val = H_val.shape[0] \n",
    "    \n",
    "    # to keep track of costs\n",
    "    costs = []\n",
    "    \n",
    "    # Global Epoch Number\n",
    "    global_step = tf.Variable(0, name='global_step', trainable=False)\n",
    "    \n",
    "    # Model\n",
    "    config = Config()\n",
    "    spj = SPJ(config)\n",
    "        \n",
    "    # Backpropagation: Define the tensorflow optimizer. Use an AdamOptimizer.\n",
    "    optimizer = tf.train.AdamOptimizer(learning_rate = learning_rate).minimize(spj.loss, global_step=global_step)\n",
    "    \n",
    "    # Initialize all the variables\n",
    "    init = tf.global_variables_initializer()\n",
    "    \n",
    "    # Add ops to save and restore all the variables.\n",
    "    saver = tf.train.Saver()\n",
    "    \n",
    "    # Tensorboard Loss\n",
    "    training_summary = tf.summary.scalar(\"training_loss\", spj.loss)\n",
    "    validation_summary = tf.summary.scalar(\"validation_loss\", spj.loss)\n",
    "    \n",
    "\n",
    "    # Start the session to compute the tensorflow graph\n",
    "    with tf.Session() as sess:\n",
    "    \n",
    "        # check for latest checkpoint\n",
    "        latest_checkpoint = tf.train.latest_checkpoint(checkpoint_dir)\n",
    "        if latest_checkpoint == None:\n",
    "            # If no check point run the initialization\n",
    "            print()\n",
    "            print(\"No checkpoint exists, initializing parameters...\")\n",
    "            sess.run(init)\n",
    "        else:\n",
    "            print()\n",
    "            print(\"Restoring from latest checkpoint...\")\n",
    "            saver.restore(sess, latest_checkpoint)\n",
    "        \n",
    "        #Tensorboard\n",
    "        summary_writer = tf.summary.FileWriter(tensorboard_dir,sess.graph)\n",
    "        \n",
    "        # Training Loop\n",
    "        print()\n",
    "        start = process_time() # Record start time\n",
    "        for epoch in range(num_epochs):\n",
    "            #print(epoch)\n",
    "            \n",
    "            # Variable to store cost\n",
    "            epoch_train_loss = 0.0\n",
    "            epoch_val_loss = 0.0\n",
    "            \n",
    "            # Get minibatches\n",
    "            num_train_minibatches = num_train // minibatch_size \n",
    "            num_val_minibatches = num_val // minibatch_size \n",
    "            seed = seed + 1\n",
    "            train_minibatches = random_mini_batches(H_train, Ipast_train, Ifuture_train, Ycaptions_train, Xcaptions_train, minibatch_size, seed)\n",
    "            val_minibatches = random_mini_batches(H_val,   Ipast_val,   Ifuture_val,   Ycaptions_val,   Xcaptions_val,   minibatch_size, seed)\n",
    "\n",
    "            for counter, train_minibatch in enumerate(train_minibatches):\n",
    "                #print(counter)\n",
    "                \n",
    "                # Select minibatch\n",
    "                (minibatch_H_train, minibatch_Ipast_train, minibatch_Ifuture_train, minibatch_Ycaptions_train, minibatch_Xcaptions_train) = train_minibatch\n",
    "                minibatch_Ycaptions_train = id_2_one_hot_void_padding(minibatch_Ycaptions_train, spj.config.num_classes, void_dim=0)\n",
    "                \n",
    "                # Run Train Session\n",
    "                _ , minibatch_train_loss, train_summ = sess.run([optimizer, spj.loss, training_summary], feed_dict={spj._H: minibatch_H_train, spj._Ipast: minibatch_Ipast_train, spj._Ifuture: minibatch_Ifuture_train, spj._x: minibatch_Xcaptions_train, spj._y: minibatch_Ycaptions_train, spj._batchsize: minibatch_H_train.shape[0]}) #\n",
    "                epoch_train_loss += minibatch_train_loss / num_train_minibatches\n",
    "                \n",
    "            for counter, val_minibatch in enumerate(val_minibatches):\n",
    "                \n",
    "                # Select minibatch\n",
    "                (minibatch_H_val, minibatch_Ipast_val, minibatch_Ifuture_val, minibatch_Ycaptions_val, minibatch_Xcaptions_val) = val_minibatch\n",
    "                minibatch_Ycaptions_val = id_2_one_hot_void_padding(minibatch_Ycaptions_val, spj.config.num_classes, void_dim=0)\n",
    "                \n",
    "                # Run Validation Session\n",
    "                minibatch_val_loss, val_summ = sess.run([spj.loss, validation_summary], feed_dict={spj._H: minibatch_H_val, spj._Ipast: minibatch_Ipast_val, spj._Ifuture: minibatch_Ifuture_val, spj._x: minibatch_Xcaptions_val, spj._y: minibatch_Ycaptions_val, spj._batchsize: minibatch_H_val.shape[0]}) #\n",
    "                epoch_val_loss += minibatch_val_loss / num_val_minibatches\n",
    "             \n",
    "            # Epoch Training Loss\n",
    "            #loss_train, train_summ = sess.run([spj.loss, training_summary], feed_dict={spj._H: H_train, spj._Ipast: Ipast_train, spj._Ifuture: Ifuture_train, spj._x: Xcaptions_train, spj._y: Ycaptions_train, spj._batchsize: num_train }) \n",
    "            # Epoch Validation Session\n",
    "            #loss_val, val_summ = sess.run([spj.loss, validation_summary], feed_dict={spj._H: H_val, spj._Ipast: Ipast_val, spj._Ifuture: Ifuture_val, spj._x: Xcaptions_val, spj._y: Ycaptions_val, spj._batchsize: num_val }) #    \n",
    "            \n",
    "            # Print cost\n",
    "            if print_cost == True:\n",
    "                global_epoch = tf.train.global_step(sess, global_step)//num_train_minibatches\n",
    "                print(\"Epoch: \", global_epoch)\n",
    "                print (\"Training Loss: \", epoch_train_loss)\n",
    "                print (\"Validation Loss: \", epoch_val_loss)\n",
    "                summary_writer.add_summary(train_summ, global_step=global_epoch) \n",
    "                summary_writer.add_summary(val_summ, global_step=global_epoch) \n",
    "            \n",
    "            # Save Model (every 20 epochs)\n",
    "            if epoch % 20 == 0:\n",
    "                print(\"Saving Checkpoint for global_step \" + str(global_epoch))\n",
    "                saver.save(sess, checkpoint_dir + 'model', global_step = global_epoch)\n",
    "        \n",
    "        # Save and Print Processed Time\n",
    "        end = process_time() \n",
    "        print()\n",
    "        print(\"Time Elapased: \", end - start)\n",
    "        \n",
    "        return 0"
   ]
  },
  {
   "cell_type": "markdown",
   "metadata": {},
   "source": [
    "# Load Vocab"
   ]
  },
  {
   "cell_type": "code",
   "execution_count": 4,
   "metadata": {},
   "outputs": [
    {
     "name": "stdout",
     "output_type": "stream",
     "text": [
      "Total number of words in all captions:  504895\n",
      "Vocabulary Size (Unique):  13001\n"
     ]
    }
   ],
   "source": [
    "# Load Vocabulary\n",
    "embedding_size =512\n",
    "pad_len, num_steps = 50, 50\n",
    "vocabulary,vocab_size = caption_preprocess(home_dir)\n",
    "emb_matrix,word2id,id2word = get_wordvector(embedding_size,vocab_size,vocabulary)\n",
    "num_classes = len(word2id)\n",
    "\n",
    "# Word Embedding Matrix\n",
    "emb_matrix, word2id, id2word = get_wordvector(embedding_size,vocab_size,vocabulary) #changed by Songze"
   ]
  },
  {
   "cell_type": "markdown",
   "metadata": {},
   "source": [
    "# Load All Data"
   ]
  },
  {
   "cell_type": "code",
   "execution_count": 5,
   "metadata": {},
   "outputs": [
    {
     "name": "stdout",
     "output_type": "stream",
     "text": [
      "Number of Examples in Data Set: 4990\n"
     ]
    }
   ],
   "source": [
    "# Load All Data\n",
    "all_file = home_dir + \"/SPJ/train_5000.csv\"\n",
    "all_ids,all_data,all_padded_proposals,all_padded_framestamps = video_preprocess(home_dir, all_file)\n",
    "\n",
    "# All Captions\n",
    "all_padded_sentences,all_padded_sentences_2,all_padded_sentences_id = get_padded_sentences_id(pad_len, all_ids, all_data, word2id) \n",
    "Ycaptions_all = np.transpose(copy.deepcopy(all_padded_sentences_2),axes=(0,2,1)).astype(np.int32)\n",
    "Xcaptions_all = np.transpose(copy.deepcopy(all_padded_sentences),axes=(0,2,1)).astype(np.int32)\n",
    "\n",
    "# All Features \n",
    "H_all = all_padded_proposals.astype(np.float32)\n",
    "Ipast_all = temporal_indicator(all_padded_framestamps, mode=\"past\").astype(np.float32)\n",
    "Ifuture_all = temporal_indicator(all_padded_framestamps, mode=\"future\").astype(np.float32)\n",
    "\n",
    "data_size = len(all_ids)\n",
    "print(\"Number of Examples in Data Set:\", data_size)"
   ]
  },
  {
   "cell_type": "markdown",
   "metadata": {},
   "source": [
    "# Data Split"
   ]
  },
  {
   "cell_type": "code",
   "execution_count": 6,
   "metadata": {},
   "outputs": [
    {
     "name": "stdout",
     "output_type": "stream",
     "text": [
      "Xcaptions_train.shape:  (100, 30, 50)\n",
      "Ycaptions_train.shape:  (100, 30, 51)\n",
      "H_train.shape:  (100, 500, 30)\n",
      "Ipast_train.shape:  (100, 30, 30)\n",
      "Ifuture_train.shape:  (100, 30, 30)\n",
      "\n",
      "Xcaptions_val.shape:  (10, 30, 50)\n",
      "Ycaptions_val.shape:  (10, 30, 51)\n",
      "H_val.shape:  (10, 500, 30)\n",
      "Ipast_val.shape:  (10, 30, 30)\n",
      "Ifuture_val.shape:  (10, 30, 30)\n",
      "\n",
      "Xcaptions_test.shape:  (10, 30, 50)\n",
      "Ycaptions_test.shape:  (10, 30, 51)\n",
      "H_test.shape:  (10, 500, 30)\n",
      "Ipast_test.shape:  (10, 30, 30)\n",
      "Ifuture_test.shape:  (10, 30, 30)\n"
     ]
    }
   ],
   "source": [
    "# Train, Val, Test Split\n",
    "num_train = 100\n",
    "num_val = 10\n",
    "num_test = 10\n",
    "\n",
    "# Training Split\n",
    "Xcaptions_train = Xcaptions_all[:num_train]\n",
    "Ycaptions_train = Ycaptions_all[:num_train]\n",
    "H_train = H_all[:num_train]\n",
    "Ipast_train = Ipast_all[:num_train]\n",
    "Ifuture_train = Ifuture_all[:num_train]\n",
    "print(\"Xcaptions_train.shape: \", Xcaptions_train.shape)\n",
    "print(\"Ycaptions_train.shape: \", Ycaptions_train.shape)\n",
    "print(\"H_train.shape: \", H_train.shape)\n",
    "print(\"Ipast_train.shape: \", Ipast_train.shape)\n",
    "print(\"Ifuture_train.shape: \", Ifuture_train.shape)\n",
    "print()\n",
    "\n",
    "# Validation Split\n",
    "Xcaptions_val = Xcaptions_all[num_train:num_train+num_val]\n",
    "Ycaptions_val = Ycaptions_all[num_train:num_train+num_val]\n",
    "H_val = H_all[num_train:num_train+num_val]\n",
    "Ipast_val = Ipast_all[num_train:num_train+num_val]\n",
    "Ifuture_val = Ifuture_all[num_train:num_train+num_val]\n",
    "print(\"Xcaptions_val.shape: \", Xcaptions_val.shape)\n",
    "print(\"Ycaptions_val.shape: \", Ycaptions_val.shape)\n",
    "print(\"H_val.shape: \", H_val.shape)\n",
    "print(\"Ipast_val.shape: \", Ipast_val.shape)\n",
    "print(\"Ifuture_val.shape: \", Ifuture_val.shape)\n",
    "print()\n",
    "\n",
    "# Testing Split\n",
    "Xcaptions_test = Xcaptions_all[num_train+num_val:num_train+num_val+num_test]\n",
    "Ycaptions_test = Ycaptions_all[num_train+num_val:num_train+num_val+num_test]\n",
    "H_test = H_all[num_train+num_val:num_train+num_val+num_test]\n",
    "Ipast_test = Ipast_all[num_train+num_val:num_train+num_val+num_test]\n",
    "Ifuture_test = Ifuture_all[num_train+num_val:num_train+num_val+num_test]\n",
    "print(\"Xcaptions_test.shape: \", Xcaptions_test.shape)\n",
    "print(\"Ycaptions_test.shape: \", Ycaptions_test.shape)\n",
    "print(\"H_test.shape: \", H_test.shape)\n",
    "print(\"Ipast_test.shape: \", Ipast_test.shape)\n",
    "print(\"Ifuture_test.shape: \", Ifuture_test.shape)"
   ]
  },
  {
   "cell_type": "markdown",
   "metadata": {},
   "source": [
    "# Execute Training"
   ]
  },
  {
   "cell_type": "code",
   "execution_count": 7,
   "metadata": {},
   "outputs": [
    {
     "name": "stdout",
     "output_type": "stream",
     "text": [
      "\n",
      "No checkpoint exists, initializing parameters...\n",
      "\n",
      "Epoch:  1\n",
      "Training Loss:  5923.818572998047\n",
      "Validation Loss:  5284.800079345703\n",
      "Saving Checkpoint for global_step 1\n",
      "Epoch:  2\n",
      "Training Loss:  4620.534828879617\n",
      "Validation Loss:  5151.2564697265625\n",
      "Epoch:  3\n",
      "Training Loss:  4433.027418656782\n",
      "Validation Loss:  5128.261535644531\n",
      "Epoch:  4\n",
      "Training Loss:  4278.060569069601\n",
      "Validation Loss:  5089.909454345703\n"
     ]
    },
    {
     "ename": "KeyboardInterrupt",
     "evalue": "",
     "output_type": "error",
     "traceback": [
      "\u001b[0;31m---------------------------------------------------------------------------\u001b[0m",
      "\u001b[0;31mKeyboardInterrupt\u001b[0m                         Traceback (most recent call last)",
      "\u001b[0;32m<ipython-input-7-f22c60f0274e>\u001b[0m in \u001b[0;36m<module>\u001b[0;34m()\u001b[0m\n\u001b[1;32m      5\u001b[0m \u001b[0mall_train\u001b[0m \u001b[0;34m=\u001b[0m \u001b[0;34m(\u001b[0m\u001b[0mH_train\u001b[0m\u001b[0;34m,\u001b[0m \u001b[0mIpast_train\u001b[0m\u001b[0;34m,\u001b[0m \u001b[0mIfuture_train\u001b[0m\u001b[0;34m,\u001b[0m \u001b[0mYcaptions_train\u001b[0m\u001b[0;34m,\u001b[0m \u001b[0mXcaptions_train\u001b[0m\u001b[0;34m)\u001b[0m\u001b[0;34m\u001b[0m\u001b[0m\n\u001b[1;32m      6\u001b[0m \u001b[0mall_val\u001b[0m \u001b[0;34m=\u001b[0m   \u001b[0;34m(\u001b[0m\u001b[0mH_val\u001b[0m\u001b[0;34m,\u001b[0m   \u001b[0mIpast_val\u001b[0m\u001b[0;34m,\u001b[0m   \u001b[0mIfuture_val\u001b[0m\u001b[0;34m,\u001b[0m   \u001b[0mYcaptions_val\u001b[0m\u001b[0;34m,\u001b[0m   \u001b[0mXcaptions_val\u001b[0m\u001b[0;34m)\u001b[0m\u001b[0;34m\u001b[0m\u001b[0m\n\u001b[0;32m----> 7\u001b[0;31m \u001b[0mmodel\u001b[0m\u001b[0;34m(\u001b[0m\u001b[0mall_train\u001b[0m\u001b[0;34m,\u001b[0m \u001b[0mall_val\u001b[0m\u001b[0;34m,\u001b[0m \u001b[0mlearning_rate\u001b[0m\u001b[0;34m,\u001b[0m \u001b[0mnum_epochs\u001b[0m\u001b[0;34m,\u001b[0m \u001b[0mminibatch_size\u001b[0m\u001b[0;34m,\u001b[0m \u001b[0mnum_steps\u001b[0m\u001b[0;34m)\u001b[0m\u001b[0;34m\u001b[0m\u001b[0m\n\u001b[0m",
      "\u001b[0;32m<ipython-input-3-096c998fa8ca>\u001b[0m in \u001b[0;36mmodel\u001b[0;34m(all_train, all_val, learning_rate, num_epochs, minibatch_size, num_steps, print_cost)\u001b[0m\n\u001b[1;32m    102\u001b[0m \u001b[0;34m\u001b[0m\u001b[0m\n\u001b[1;32m    103\u001b[0m                 \u001b[0;31m# Run Train Session\u001b[0m\u001b[0;34m\u001b[0m\u001b[0;34m\u001b[0m\u001b[0m\n\u001b[0;32m--> 104\u001b[0;31m                 \u001b[0m_\u001b[0m \u001b[0;34m,\u001b[0m \u001b[0mminibatch_train_loss\u001b[0m\u001b[0;34m,\u001b[0m \u001b[0mtrain_summ\u001b[0m \u001b[0;34m=\u001b[0m \u001b[0msess\u001b[0m\u001b[0;34m.\u001b[0m\u001b[0mrun\u001b[0m\u001b[0;34m(\u001b[0m\u001b[0;34m[\u001b[0m\u001b[0moptimizer\u001b[0m\u001b[0;34m,\u001b[0m \u001b[0mspj\u001b[0m\u001b[0;34m.\u001b[0m\u001b[0mloss\u001b[0m\u001b[0;34m,\u001b[0m \u001b[0mtraining_summary\u001b[0m\u001b[0;34m]\u001b[0m\u001b[0;34m,\u001b[0m \u001b[0mfeed_dict\u001b[0m\u001b[0;34m=\u001b[0m\u001b[0;34m{\u001b[0m\u001b[0mspj\u001b[0m\u001b[0;34m.\u001b[0m\u001b[0m_H\u001b[0m\u001b[0;34m:\u001b[0m \u001b[0mminibatch_H_train\u001b[0m\u001b[0;34m,\u001b[0m \u001b[0mspj\u001b[0m\u001b[0;34m.\u001b[0m\u001b[0m_Ipast\u001b[0m\u001b[0;34m:\u001b[0m \u001b[0mminibatch_Ipast_train\u001b[0m\u001b[0;34m,\u001b[0m \u001b[0mspj\u001b[0m\u001b[0;34m.\u001b[0m\u001b[0m_Ifuture\u001b[0m\u001b[0;34m:\u001b[0m \u001b[0mminibatch_Ifuture_train\u001b[0m\u001b[0;34m,\u001b[0m \u001b[0mspj\u001b[0m\u001b[0;34m.\u001b[0m\u001b[0m_x\u001b[0m\u001b[0;34m:\u001b[0m \u001b[0mminibatch_Xcaptions_train\u001b[0m\u001b[0;34m,\u001b[0m \u001b[0mspj\u001b[0m\u001b[0;34m.\u001b[0m\u001b[0m_y\u001b[0m\u001b[0;34m:\u001b[0m \u001b[0mminibatch_Ycaptions_train\u001b[0m\u001b[0;34m,\u001b[0m \u001b[0mspj\u001b[0m\u001b[0;34m.\u001b[0m\u001b[0m_batchsize\u001b[0m\u001b[0;34m:\u001b[0m \u001b[0mminibatch_H_train\u001b[0m\u001b[0;34m.\u001b[0m\u001b[0mshape\u001b[0m\u001b[0;34m[\u001b[0m\u001b[0;36m0\u001b[0m\u001b[0;34m]\u001b[0m\u001b[0;34m}\u001b[0m\u001b[0;34m)\u001b[0m \u001b[0;31m#\u001b[0m\u001b[0;34m\u001b[0m\u001b[0m\n\u001b[0m\u001b[1;32m    105\u001b[0m                 \u001b[0mepoch_train_loss\u001b[0m \u001b[0;34m+=\u001b[0m \u001b[0mminibatch_train_loss\u001b[0m \u001b[0;34m/\u001b[0m \u001b[0mnum_train_minibatches\u001b[0m\u001b[0;34m\u001b[0m\u001b[0m\n\u001b[1;32m    106\u001b[0m \u001b[0;34m\u001b[0m\u001b[0m\n",
      "\u001b[0;32m/home/shared/anaconda3/lib/python3.6/site-packages/tensorflow/python/client/session.py\u001b[0m in \u001b[0;36mrun\u001b[0;34m(self, fetches, feed_dict, options, run_metadata)\u001b[0m\n\u001b[1;32m    903\u001b[0m     \u001b[0;32mtry\u001b[0m\u001b[0;34m:\u001b[0m\u001b[0;34m\u001b[0m\u001b[0m\n\u001b[1;32m    904\u001b[0m       result = self._run(None, fetches, feed_dict, options_ptr,\n\u001b[0;32m--> 905\u001b[0;31m                          run_metadata_ptr)\n\u001b[0m\u001b[1;32m    906\u001b[0m       \u001b[0;32mif\u001b[0m \u001b[0mrun_metadata\u001b[0m\u001b[0;34m:\u001b[0m\u001b[0;34m\u001b[0m\u001b[0m\n\u001b[1;32m    907\u001b[0m         \u001b[0mproto_data\u001b[0m \u001b[0;34m=\u001b[0m \u001b[0mtf_session\u001b[0m\u001b[0;34m.\u001b[0m\u001b[0mTF_GetBuffer\u001b[0m\u001b[0;34m(\u001b[0m\u001b[0mrun_metadata_ptr\u001b[0m\u001b[0;34m)\u001b[0m\u001b[0;34m\u001b[0m\u001b[0m\n",
      "\u001b[0;32m/home/shared/anaconda3/lib/python3.6/site-packages/tensorflow/python/client/session.py\u001b[0m in \u001b[0;36m_run\u001b[0;34m(self, handle, fetches, feed_dict, options, run_metadata)\u001b[0m\n\u001b[1;32m   1138\u001b[0m     \u001b[0;32mif\u001b[0m \u001b[0mfinal_fetches\u001b[0m \u001b[0;32mor\u001b[0m \u001b[0mfinal_targets\u001b[0m \u001b[0;32mor\u001b[0m \u001b[0;34m(\u001b[0m\u001b[0mhandle\u001b[0m \u001b[0;32mand\u001b[0m \u001b[0mfeed_dict_tensor\u001b[0m\u001b[0;34m)\u001b[0m\u001b[0;34m:\u001b[0m\u001b[0;34m\u001b[0m\u001b[0m\n\u001b[1;32m   1139\u001b[0m       results = self._do_run(handle, final_targets, final_fetches,\n\u001b[0;32m-> 1140\u001b[0;31m                              feed_dict_tensor, options, run_metadata)\n\u001b[0m\u001b[1;32m   1141\u001b[0m     \u001b[0;32melse\u001b[0m\u001b[0;34m:\u001b[0m\u001b[0;34m\u001b[0m\u001b[0m\n\u001b[1;32m   1142\u001b[0m       \u001b[0mresults\u001b[0m \u001b[0;34m=\u001b[0m \u001b[0;34m[\u001b[0m\u001b[0;34m]\u001b[0m\u001b[0;34m\u001b[0m\u001b[0m\n",
      "\u001b[0;32m/home/shared/anaconda3/lib/python3.6/site-packages/tensorflow/python/client/session.py\u001b[0m in \u001b[0;36m_do_run\u001b[0;34m(self, handle, target_list, fetch_list, feed_dict, options, run_metadata)\u001b[0m\n\u001b[1;32m   1319\u001b[0m     \u001b[0;32mif\u001b[0m \u001b[0mhandle\u001b[0m \u001b[0;32mis\u001b[0m \u001b[0;32mNone\u001b[0m\u001b[0;34m:\u001b[0m\u001b[0;34m\u001b[0m\u001b[0m\n\u001b[1;32m   1320\u001b[0m       return self._do_call(_run_fn, feeds, fetches, targets, options,\n\u001b[0;32m-> 1321\u001b[0;31m                            run_metadata)\n\u001b[0m\u001b[1;32m   1322\u001b[0m     \u001b[0;32melse\u001b[0m\u001b[0;34m:\u001b[0m\u001b[0;34m\u001b[0m\u001b[0m\n\u001b[1;32m   1323\u001b[0m       \u001b[0;32mreturn\u001b[0m \u001b[0mself\u001b[0m\u001b[0;34m.\u001b[0m\u001b[0m_do_call\u001b[0m\u001b[0;34m(\u001b[0m\u001b[0m_prun_fn\u001b[0m\u001b[0;34m,\u001b[0m \u001b[0mhandle\u001b[0m\u001b[0;34m,\u001b[0m \u001b[0mfeeds\u001b[0m\u001b[0;34m,\u001b[0m \u001b[0mfetches\u001b[0m\u001b[0;34m)\u001b[0m\u001b[0;34m\u001b[0m\u001b[0m\n",
      "\u001b[0;32m/home/shared/anaconda3/lib/python3.6/site-packages/tensorflow/python/client/session.py\u001b[0m in \u001b[0;36m_do_call\u001b[0;34m(self, fn, *args)\u001b[0m\n\u001b[1;32m   1325\u001b[0m   \u001b[0;32mdef\u001b[0m \u001b[0m_do_call\u001b[0m\u001b[0;34m(\u001b[0m\u001b[0mself\u001b[0m\u001b[0;34m,\u001b[0m \u001b[0mfn\u001b[0m\u001b[0;34m,\u001b[0m \u001b[0;34m*\u001b[0m\u001b[0margs\u001b[0m\u001b[0;34m)\u001b[0m\u001b[0;34m:\u001b[0m\u001b[0;34m\u001b[0m\u001b[0m\n\u001b[1;32m   1326\u001b[0m     \u001b[0;32mtry\u001b[0m\u001b[0;34m:\u001b[0m\u001b[0;34m\u001b[0m\u001b[0m\n\u001b[0;32m-> 1327\u001b[0;31m       \u001b[0;32mreturn\u001b[0m \u001b[0mfn\u001b[0m\u001b[0;34m(\u001b[0m\u001b[0;34m*\u001b[0m\u001b[0margs\u001b[0m\u001b[0;34m)\u001b[0m\u001b[0;34m\u001b[0m\u001b[0m\n\u001b[0m\u001b[1;32m   1328\u001b[0m     \u001b[0;32mexcept\u001b[0m \u001b[0merrors\u001b[0m\u001b[0;34m.\u001b[0m\u001b[0mOpError\u001b[0m \u001b[0;32mas\u001b[0m \u001b[0me\u001b[0m\u001b[0;34m:\u001b[0m\u001b[0;34m\u001b[0m\u001b[0m\n\u001b[1;32m   1329\u001b[0m       \u001b[0mmessage\u001b[0m \u001b[0;34m=\u001b[0m \u001b[0mcompat\u001b[0m\u001b[0;34m.\u001b[0m\u001b[0mas_text\u001b[0m\u001b[0;34m(\u001b[0m\u001b[0me\u001b[0m\u001b[0;34m.\u001b[0m\u001b[0mmessage\u001b[0m\u001b[0;34m)\u001b[0m\u001b[0;34m\u001b[0m\u001b[0m\n",
      "\u001b[0;32m/home/shared/anaconda3/lib/python3.6/site-packages/tensorflow/python/client/session.py\u001b[0m in \u001b[0;36m_run_fn\u001b[0;34m(feed_dict, fetch_list, target_list, options, run_metadata)\u001b[0m\n\u001b[1;32m   1310\u001b[0m       \u001b[0mself\u001b[0m\u001b[0;34m.\u001b[0m\u001b[0m_extend_graph\u001b[0m\u001b[0;34m(\u001b[0m\u001b[0;34m)\u001b[0m\u001b[0;34m\u001b[0m\u001b[0m\n\u001b[1;32m   1311\u001b[0m       return self._call_tf_sessionrun(\n\u001b[0;32m-> 1312\u001b[0;31m           options, feed_dict, fetch_list, target_list, run_metadata)\n\u001b[0m\u001b[1;32m   1313\u001b[0m \u001b[0;34m\u001b[0m\u001b[0m\n\u001b[1;32m   1314\u001b[0m     \u001b[0;32mdef\u001b[0m \u001b[0m_prun_fn\u001b[0m\u001b[0;34m(\u001b[0m\u001b[0mhandle\u001b[0m\u001b[0;34m,\u001b[0m \u001b[0mfeed_dict\u001b[0m\u001b[0;34m,\u001b[0m \u001b[0mfetch_list\u001b[0m\u001b[0;34m)\u001b[0m\u001b[0;34m:\u001b[0m\u001b[0;34m\u001b[0m\u001b[0m\n",
      "\u001b[0;32m/home/shared/anaconda3/lib/python3.6/site-packages/tensorflow/python/client/session.py\u001b[0m in \u001b[0;36m_call_tf_sessionrun\u001b[0;34m(self, options, feed_dict, fetch_list, target_list, run_metadata)\u001b[0m\n\u001b[1;32m   1418\u001b[0m         return tf_session.TF_Run(\n\u001b[1;32m   1419\u001b[0m             \u001b[0mself\u001b[0m\u001b[0;34m.\u001b[0m\u001b[0m_session\u001b[0m\u001b[0;34m,\u001b[0m \u001b[0moptions\u001b[0m\u001b[0;34m,\u001b[0m \u001b[0mfeed_dict\u001b[0m\u001b[0;34m,\u001b[0m \u001b[0mfetch_list\u001b[0m\u001b[0;34m,\u001b[0m \u001b[0mtarget_list\u001b[0m\u001b[0;34m,\u001b[0m\u001b[0;34m\u001b[0m\u001b[0m\n\u001b[0;32m-> 1420\u001b[0;31m             status, run_metadata)\n\u001b[0m\u001b[1;32m   1421\u001b[0m \u001b[0;34m\u001b[0m\u001b[0m\n\u001b[1;32m   1422\u001b[0m   \u001b[0;32mdef\u001b[0m \u001b[0m_call_tf_sessionprun\u001b[0m\u001b[0;34m(\u001b[0m\u001b[0mself\u001b[0m\u001b[0;34m,\u001b[0m \u001b[0mhandle\u001b[0m\u001b[0;34m,\u001b[0m \u001b[0mfeed_dict\u001b[0m\u001b[0;34m,\u001b[0m \u001b[0mfetch_list\u001b[0m\u001b[0;34m)\u001b[0m\u001b[0;34m:\u001b[0m\u001b[0;34m\u001b[0m\u001b[0m\n",
      "\u001b[0;31mKeyboardInterrupt\u001b[0m: "
     ]
    }
   ],
   "source": [
    "# Train Model\n",
    "learning_rate = 0.01\n",
    "num_epochs = 1000\n",
    "minibatch_size = 9\n",
    "all_train = (H_train, Ipast_train, Ifuture_train, Ycaptions_train, Xcaptions_train)\n",
    "all_val =   (H_val,   Ipast_val,   Ifuture_val,   Ycaptions_val,   Xcaptions_val)\n",
    "model(all_train, all_val, learning_rate, num_epochs, minibatch_size, num_steps)"
   ]
  },
  {
   "cell_type": "markdown",
   "metadata": {},
   "source": [
    "# Count Number of Uknowns"
   ]
  },
  {
   "cell_type": "code",
   "execution_count": 10,
   "metadata": {},
   "outputs": [
    {
     "name": "stdout",
     "output_type": "stream",
     "text": [
      "number of uknowns: 122\n"
     ]
    }
   ],
   "source": [
    "count = 0\n",
    "num_proposals = Ycaptions_train.shape[1]\n",
    "for i in range(Ycaptions_train.shape[0]):\n",
    "    for k in range(num_proposals):\n",
    "        for word_id in Ycaptions_train[i][k]:\n",
    "            if word_id == 1:\n",
    "                #print(id2word[word_id])\n",
    "                count = count + 1\n",
    "print(\"number of uknowns:\", count)"
   ]
  },
  {
   "cell_type": "markdown",
   "metadata": {},
   "source": [
    "# Generate Captions"
   ]
  },
  {
   "cell_type": "code",
   "execution_count": null,
   "metadata": {},
   "outputs": [],
   "source": [
    "learning_rate = 1e-6\n",
    "minibatch_size = 9\n",
    "tf.set_random_seed(1)                             \n",
    "seed = 3            \n",
    "from utils.data_utils import *\n",
    "\n",
    "tf.reset_default_graph()\n",
    "config = Config()\n",
    "spj = SPJ(config)\n",
    "global_step = tf.Variable(0, name='global_step', trainable=False)\n",
    "checkpoint_dir = \"/home/martnzjulio_a/songze/checkpoints/\"\n",
    "latest_checkpoint = tf.train.latest_checkpoint(checkpoint_dir)\n",
    "saver = tf.train.Saver()\n",
    "optimizer = tf.train.AdamOptimizer(learning_rate = learning_rate).minimize(spj.loss, global_step=global_step)\n",
    "# Initialize all the variables\n",
    "init = tf.global_variables_initializer()\n",
    "\n",
    "\n",
    "train_minibatches = random_mini_batches(H_train, Ipast_train, Ifuture_train, Ycaptions_train, Xcaptions_train, minibatch_size, seed)\n",
    "(minibatch_H_train, minibatch_Ipast_train, minibatch_Ifuture_train, minibatch_Ycaptions_train, minibatch_Xcaptions_train) = train_minibatches[0]   \n",
    "with tf.Session() as sess:   \n",
    "    sess.run(init)\n",
    "    word_id = spj.caption_generation(sess,minibatch_H_train, minibatch_Ipast_train, minibatch_Ifuture_train, minibatch_Xcaptions_train, minibatch_Ycaptions_train)\n",
    "print (word_id)"
   ]
  }
 ],
 "metadata": {
  "kernelspec": {
   "display_name": "Python 3",
   "language": "python",
   "name": "python3"
  },
  "language_info": {
   "codemirror_mode": {
    "name": "ipython",
    "version": 3
   },
   "file_extension": ".py",
   "mimetype": "text/x-python",
   "name": "python",
   "nbconvert_exporter": "python",
   "pygments_lexer": "ipython3",
   "version": "3.6.4"
  }
 },
 "nbformat": 4,
 "nbformat_minor": 2
}
