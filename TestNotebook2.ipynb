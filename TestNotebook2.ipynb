{
 "cells": [
  {
   "cell_type": "code",
   "execution_count": 1,
   "metadata": {
    "scrolled": true
   },
   "outputs": [
    {
     "name": "stderr",
     "output_type": "stream",
     "text": [
      "/home/shared/anaconda3/lib/python3.6/site-packages/h5py/__init__.py:36: FutureWarning: Conversion of the second argument of issubdtype from `float` to `np.floating` is deprecated. In future, it will be treated as `np.float64 == np.dtype(float).type`.\n",
      "  from ._conv import register_converters as _register_converters\n"
     ]
    },
    {
     "name": "stdout",
     "output_type": "stream",
     "text": [
      "WARNING:tensorflow:From /home/shared/anaconda3/lib/python3.6/site-packages/tensorflow/contrib/learn/python/learn/datasets/base.py:198: retry (from tensorflow.contrib.learn.python.learn.datasets.base) is deprecated and will be removed in a future version.\n",
      "Instructions for updating:\n",
      "Use the retry module or similar alternatives.\n"
     ]
    }
   ],
   "source": [
    "# As usual, a bit of setup\n",
    "import time\n",
    "from time import process_time\n",
    "import numpy as np\n",
    "import matplotlib.pyplot as plt\n",
    "import LOUPE.WILLOW.loupe as lp\n",
    "import tensorflow as tf\n",
    "import h5py\n",
    "import pandas as pd\n",
    "import csv\n",
    "import copy\n",
    "import math\n",
    "from utils.data_utils import *\n",
    "import sys\n",
    "import re\n",
    "from utils.spj import Config\n",
    "from utils.spj import SPJ\n",
    "%matplotlib inline\n",
    "plt.rcParams['figure.figsize'] = (10.0, 8.0) # set default size of plots\n",
    "plt.rcParams['image.interpolation'] = 'nearest'\n",
    "plt.rcParams['image.cmap'] = 'gray'\n",
    "\n",
    "# for auto-reloading external modules\n",
    "# see http://stackoverflow.com/questions/1907993/autoreload-of-modules-in-ipython\n",
    "%load_ext autoreload\n",
    "%autoreload 2"
   ]
  },
  {
   "cell_type": "markdown",
   "metadata": {},
   "source": [
    "# Training Model"
   ]
  },
  {
   "cell_type": "code",
   "execution_count": 17,
   "metadata": {},
   "outputs": [],
   "source": [
    "def model(H_train, Ipast_train, Ifuture_train, Ycaptions_train, Xcaptions_train, learning_rate, num_epochs, print_cost = True):\n",
    "    \"\"\"\n",
    "    Implements a tensorflow neural network: C3D->ATTENTION->CAPTIONING\n",
    "    \n",
    "    Arguments:\n",
    "    H_train -- training set, of shape = [n_train,num_c3d_features,num_proposals]\n",
    "    Y_train -- caption labels, of shape = [n_train,num_proposals,num_steps+1]\n",
    "    H_test -- training set, of shape = [n_test,num_c3d_features,num_proposals]\n",
    "    Y_test -- caption labels, of shape = [n_test,num_proposals,num_steps+1]\n",
    "    learning_rate -- learning rate of the optimization\n",
    "    num_epochs -- number of epochs of the optimization loop\n",
    "    minibatch_size -- size of a minibatch\n",
    "    print_cost -- True to print the cost every 100 epochs\n",
    "    \n",
    "    Returns:\n",
    "    parameters -- parameters learnt by the model. They can then be used to predict.\n",
    "    \"\"\"\n",
    "    \n",
    "    # Directory to Save Checkpoint\n",
    "    checkpoint_dir = \"/home/martnzjulio_a/checkpoints/\"\n",
    "    \n",
    "    # Reset Graph\n",
    "    tf.reset_default_graph()    \n",
    "    \n",
    "    # For Consistency\n",
    "    tf.set_random_seed(1)                             \n",
    "    seed = 3                                         \n",
    "    \n",
    "    # Number of Training Examples\n",
    "    num_train = H_train.shape[0]                        \n",
    "    \n",
    "    # to keep track of costs\n",
    "    costs = []\n",
    "    \n",
    "    # Global Epoch Number\n",
    "    global_step = tf.Variable(0, name='global_step', trainable=False)\n",
    "    \n",
    "    # Model\n",
    "    config = Config()\n",
    "    spj = SPJ(config)\n",
    "        \n",
    "    # Backpropagation: Define the tensorflow optimizer. Use an AdamOptimizer.\n",
    "    optimizer = tf.train.AdamOptimizer(learning_rate = learning_rate).minimize(spj.loss, global_step=global_step)\n",
    "    \n",
    "    # Initialize all the variables\n",
    "    init = tf.global_variables_initializer()\n",
    "    \n",
    "    # Add ops to save and restore all the variables.\n",
    "    saver = tf.train.Saver()\n",
    "\n",
    "    # Start the session to compute the tensorflow graph\n",
    "    with tf.Session() as sess:\n",
    "           \n",
    "        # check for latest checkpoint\n",
    "        latest_checkpoint = tf.train.latest_checkpoint(checkpoint_dir)\n",
    "        if latest_checkpoint == None:\n",
    "            # If no check point run the initialization\n",
    "            print()\n",
    "            print(\"No checkpint exists, initializing parameters...\")\n",
    "            sess.run(init)\n",
    "        else:\n",
    "            print()\n",
    "            print(\"Restoring from latest checkpoint...\")\n",
    "            saver.restore(sess, latest_checkpoint)\n",
    "        \n",
    "        # Training Loop\n",
    "        print()\n",
    "        start = process_time() # Record start time\n",
    "        for epoch in range(num_epochs):\n",
    "            \n",
    "            # Variable to store cost\n",
    "            epoch_loss = 0.0\n",
    "            \n",
    "            # Get minibatches\n",
    "            num_minibatches = num_train // config.batch_size \n",
    "            seed = seed + 1\n",
    "            minibatches = random_mini_batches(H_train, Ipast_train, Ifuture_train, Ycaptions_train, Xcaptions_train, config.batch_size, seed = 0)\n",
    "\n",
    "            for counter, minibatch in enumerate(minibatches):\n",
    "                \n",
    "                # Select minibatch\n",
    "                (minibatch_H, minibatch_Ipast, minibatch_Ifuture, minibatch_Ycaptions, minibatch_Xcaptions) = minibatch\n",
    "                \n",
    "                # Run Session\n",
    "                _ , minibatch_loss = sess.run([optimizer, spj.loss], feed_dict={spj._H: minibatch_H, spj._Ipast: minibatch_Ipast, spj._Ifuture: minibatch_Ifuture, spj._x: minibatch_Xcaptions, spj._y: minibatch_Ycaptions})\n",
    "                epoch_loss += minibatch_loss / num_minibatches\n",
    "                \n",
    "            # Print cost\n",
    "            if print_cost == True:\n",
    "                print (\"Loss after epoch %i: %f\" % (epoch, epoch_loss))\n",
    "                costs.append(epoch_loss)\n",
    "            \n",
    "            # Save Model (every 20 epochs)\n",
    "            if epoch % 20 == 0:\n",
    "                print(\"Saving Checkpoint for global_step \" + str(global_step))\n",
    "                saver.save(sess, checkpoint_dir + 'model', global_step = global_step)\n",
    "        \n",
    "        # Save and Print Processed Time\n",
    "        end = process_time() \n",
    "        print()\n",
    "        print(\"Time Elapased: \", end - start)\n",
    "        print()\n",
    "        \n",
    "        # Plot Loss Curve\n",
    "        final_costs = np.squeeze(costs)\n",
    "        plt.plot(final_costs)\n",
    "        plt.ylabel('Loss')\n",
    "        plt.xlabel('Epochs')\n",
    "        plt.title(\"Learning rate =\" + str(learning_rate))\n",
    "        plt.show()\n",
    "        \n",
    "        return 0"
   ]
  },
  {
   "cell_type": "code",
   "execution_count": 18,
   "metadata": {
    "scrolled": false
   },
   "outputs": [
    {
     "name": "stdout",
     "output_type": "stream",
     "text": [
      "number of examples:  99\n",
      "train_data.shape:  (590, 508)\n",
      "padded_proposals.shape:  (99, 500, 30)\n",
      "padded_framestamps.shape:  (99, 2, 30)\n",
      "Total number of words in all captions:  504895\n",
      "Vocabulary Size (Unique):  13001\n",
      "\n",
      "Restoring from latest checkpoint...\n",
      "INFO:tensorflow:Restoring parameters from /home/martnzjulio_a/checkpoints/model-33\n",
      "\n",
      "Loss after epoch 0: 8274.286444\n",
      "Saving Checkpoint for global_step <tf.Variable 'global_step:0' shape=() dtype=int32_ref>\n",
      "Loss after epoch 1: 8023.298784\n",
      "Loss after epoch 2: 7886.095703\n",
      "Loss after epoch 3: 7813.683327\n",
      "Loss after epoch 4: 7769.290749\n",
      "\n",
      "Time Elapased:  36.196556767999994\n",
      "\n"
     ]
    },
    {
     "data": {
      "image/png": "[encoded data removed]",
      "text/plain": [
       "<matplotlib.figure.Figure at 0x7f1f87ef6cf8>"
      ]
     },
     "metadata": {},
     "output_type": "display_data"
    },
    {
     "data": {
      "text/plain": [
       "0"
      ]
     },
     "execution_count": 18,
     "metadata": {},
     "output_type": "execute_result"
    }
   ],
   "source": [
    "# Load Training Data\n",
    "train_ids,train_data,padded_proposals,padded_framestamps = video_preprocess()\n",
    "\n",
    "# Get word2id and sentences\n",
    "embedding_size =512\n",
    "vocabulary,vocab_size = caption_preprocess()\n",
    "emb_matrix,word2id,id2word = get_wordvector(embedding_size,vocab_size,vocabulary)\n",
    "pad_len = 50\n",
    "all_padded_sentences,all_padded_sentences_2,all_padded_sentences_id = get_padded_sentences_id(pad_len,train_ids, train_data, word2id)     \n",
    "\n",
    "sentence_ids = all_padded_sentences_id\n",
    "Ycaptions = copy.deepcopy(all_padded_sentences_2) \n",
    "Xcaptions = copy.deepcopy(all_padded_sentences)\n",
    "Xcaptions = np.transpose(Xcaptions,axes=(0,2,1)).astype(np.int32)\n",
    "Ycaptions = np.transpose(Ycaptions,axes=(0,2,1)).astype(np.int32)\n",
    "\n",
    "# Input Features\n",
    "H = padded_proposals.astype(np.float32)\n",
    "\n",
    "# Input Framstamps [f_init, f_end]\n",
    "framestamps = padded_framestamps\n",
    "\n",
    "# Input Indicators for past and future\n",
    "Ipast = temporal_indicator(framestamps, mode=\"past\").astype(np.float32)\n",
    "Ifuture = temporal_indicator(framestamps, mode=\"future\").astype(np.float32)\n",
    "\n",
    "# Word Embedding Matrix\n",
    "emb_matrix, word2id, id2word = get_wordvector(embedding_size,vocab_size,vocabulary) #changed by Songze\n",
    "\n",
    "# Train Model\n",
    "learning_rate = 0.001\n",
    "num_epochs = 5\n",
    "model(H, Ipast, Ifuture, Ycaptions, Xcaptions, learning_rate, num_epochs)"
   ]
  },
  {
   "cell_type": "code",
   "execution_count": null,
   "metadata": {},
   "outputs": [],
   "source": []
  }
 ],
 "metadata": {
  "kernelspec": {
   "display_name": "Python 3",
   "language": "python",
   "name": "python3"
  },
  "language_info": {
   "codemirror_mode": {
    "name": "ipython",
    "version": 3
   },
   "file_extension": ".py",
   "mimetype": "text/x-python",
   "name": "python",
   "nbconvert_exporter": "python",
   "pygments_lexer": "ipython3",
   "version": "3.6.4"
  }
 },
 "nbformat": 4,
 "nbformat_minor": 2
}
