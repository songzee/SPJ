{
 "cells": [
  {
   "cell_type": "code",
   "execution_count": 1,
   "metadata": {
    "scrolled": true
   },
   "outputs": [
    {
     "name": "stderr",
     "output_type": "stream",
     "text": [
      "/home/shared/anaconda3/lib/python3.6/site-packages/h5py/__init__.py:36: FutureWarning: Conversion of the second argument of issubdtype from `float` to `np.floating` is deprecated. In future, it will be treated as `np.float64 == np.dtype(float).type`.\n",
      "  from ._conv import register_converters as _register_converters\n"
     ]
    },
    {
     "name": "stdout",
     "output_type": "stream",
     "text": [
      "WARNING:tensorflow:From /home/shared/anaconda3/lib/python3.6/site-packages/tensorflow/contrib/learn/python/learn/datasets/base.py:198: retry (from tensorflow.contrib.learn.python.learn.datasets.base) is deprecated and will be removed in a future version.\n",
      "Instructions for updating:\n",
      "Use the retry module or similar alternatives.\n"
     ]
    }
   ],
   "source": [
    "# As usual, a bit of setup\n",
    "import time\n",
    "from time import process_time\n",
    "import numpy as np\n",
    "import matplotlib.pyplot as plt\n",
    "import LOUPE.WILLOW.loupe as lp\n",
    "import tensorflow as tf\n",
    "import h5py\n",
    "import pandas as pd\n",
    "import csv\n",
    "import copy\n",
    "import math\n",
    "from utils.data_utils import *\n",
    "import sys\n",
    "import re\n",
    "from utils.spj import Config\n",
    "from utils.spj import SPJ\n",
    "%matplotlib inline\n",
    "plt.rcParams['figure.figsize'] = (10.0, 8.0) # set default size of plots\n",
    "plt.rcParams['image.interpolation'] = 'nearest'\n",
    "plt.rcParams['image.cmap'] = 'gray'\n",
    "\n",
    "# for auto-reloading external modules\n",
    "# see http://stackoverflow.com/questions/1907993/autoreload-of-modules-in-ipython\n",
    "%load_ext autoreload\n",
    "%autoreload 2"
   ]
  },
  {
   "cell_type": "markdown",
   "metadata": {},
   "source": [
    "# Training Model"
   ]
  },
  {
   "cell_type": "code",
<<<<<<< HEAD
   "execution_count": 16,
=======
   "execution_count": 2,
>>>>>>> 71d9efd24072a82196d0f89bd272957a5f4e30e4
   "metadata": {},
   "outputs": [],
   "source": [
    "def model(H_train, Ipast_train, Ifuture_train, Ycaptions_train, Xcaptions_train, learning_rate, num_epochs, print_cost = True):\n",
    "    \"\"\"\n",
    "    Implements a tensorflow neural network: C3D->ATTENTION->CAPTIONING\n",
    "    \n",
    "    Arguments:\n",
    "    H_train -- training set, of shape = [n_train,num_c3d_features,num_proposals]\n",
    "    Y_train -- caption labels, of shape = [n_train,num_proposals,num_steps+1]\n",
    "    H_test -- training set, of shape = [n_test,num_c3d_features,num_proposals]\n",
    "    Y_test -- caption labels, of shape = [n_test,num_proposals,num_steps+1]\n",
    "    learning_rate -- learning rate of the optimization\n",
    "    num_epochs -- number of epochs of the optimization loop\n",
    "    minibatch_size -- size of a minibatch\n",
    "    print_cost -- True to print the cost every 100 epochs\n",
    "    \n",
    "    Returns:\n",
    "    parameters -- parameters learnt by the model. They can then be used to predict.\n",
    "    \"\"\"\n",
    "    \n",
    "    # Directory to Save Checkpoint\n",
<<<<<<< HEAD
    "    checkpoint_dir = \"/home/martnzjulio_a/checkpoints/\"\n",
    "    tensorboard_dir = \"/home/martnzjulio_a/tensorboard/\"\n",
=======
    "    checkpoint_dir = \"/home/songzeli/checkpoints/\"\n",
>>>>>>> 71d9efd24072a82196d0f89bd272957a5f4e30e4
    "    \n",
    "    # Reset Graph\n",
    "    tf.reset_default_graph()    \n",
    "    \n",
    "    # For Consistency\n",
    "    tf.set_random_seed(1)                             \n",
    "    seed = 3                                         \n",
    "    \n",
    "    # Number of Training Examples\n",
    "    num_train = H_train.shape[0]                        \n",
    "    \n",
    "    # to keep track of costs\n",
    "    costs = []\n",
    "    \n",
    "    # Global Epoch Number\n",
    "    global_step = tf.Variable(0, name='global_step', trainable=False)\n",
    "    \n",
    "    # Model\n",
    "    config = Config()\n",
    "    spj = SPJ(config)\n",
    "        \n",
    "    # Backpropagation: Define the tensorflow optimizer. Use an AdamOptimizer.\n",
    "    optimizer = tf.train.AdamOptimizer(learning_rate = learning_rate).minimize(spj.loss, global_step=global_step)\n",
    "    \n",
    "    # Initialize all the variables\n",
    "    init = tf.global_variables_initializer()\n",
    "    \n",
    "    # Add ops to save and restore all the variables.\n",
    "    saver = tf.train.Saver()\n",
    "    \n",
    "    # Tensorboard Loss\n",
    "    training_summary = tf.summary.scalar(\"training_loss\", spj.loss)\n",
    "    #validation_summary = tf.summary.scalar(\"validation loss\", spj.loss)\n",
    "    \n",
    "\n",
    "    # Start the session to compute the tensorflow graph\n",
    "    with tf.Session() as sess:\n",
    "    \n",
    "        # check for latest checkpoint\n",
    "        latest_checkpoint = tf.train.latest_checkpoint(checkpoint_dir)\n",
    "        if latest_checkpoint == None:\n",
    "            # If no check point run the initialization\n",
    "            print()\n",
    "            print(\"No checkpint exists, initializing parameters...\")\n",
    "            sess.run(init)\n",
    "        else:\n",
    "            print()\n",
    "            print(\"Restoring from latest checkpoint...\")\n",
    "            saver.restore(sess, latest_checkpoint)\n",
    "        \n",
    "        #Tensorboard\n",
    "        summary_writer = tf.summary.FileWriter(tensorboard_dir,sess.graph)\n",
    "        \n",
    "        # Training Loop\n",
    "        print()\n",
    "        start = process_time() # Record start time\n",
    "        for epoch in range(num_epochs):\n",
    "            \n",
    "            # Variable to store cost\n",
    "            epoch_loss = 0.0\n",
    "            \n",
    "            # Get minibatches\n",
    "            num_minibatches = num_train // config.batch_size \n",
    "            seed = seed + 1\n",
    "            minibatches = random_mini_batches(H_train, Ipast_train, Ifuture_train, Ycaptions_train, Xcaptions_train, config.batch_size, seed = 0)\n",
    "\n",
    "            for counter, minibatch in enumerate(minibatches):\n",
    "                \n",
    "                # Select minibatch\n",
    "                (minibatch_H, minibatch_Ipast, minibatch_Ifuture, minibatch_Ycaptions, minibatch_Xcaptions) = minibatch\n",
    "                \n",
    "                # Run Session\n",
    "                _ , minibatch_loss, train_summ = sess.run([optimizer, spj.loss, training_summary], feed_dict={spj._H: minibatch_H, spj._Ipast: minibatch_Ipast, spj._Ifuture: minibatch_Ifuture, spj._x: minibatch_Xcaptions, spj._y: minibatch_Ycaptions})\n",
    "                epoch_loss += minibatch_loss / num_minibatches\n",
    "                \n",
    "            # Print cost\n",
    "            if print_cost == True:\n",
    "                global_epoch = tf.train.global_step(sess, global_step)//num_minibatches\n",
    "                print (\"Loss after epoch %i: %f\" % (global_epoch, epoch_loss))\n",
    "                costs.append(epoch_loss)\n",
    "                summary_writer.add_summary(train_summ, global_step = global_epoch) \n",
    "            \n",
    "            # Save Model (every 20 epochs)\n",
    "            if epoch % 20 == 0:\n",
    "                print(\"Saving Checkpoint for global_step \" + str(global_epoch))\n",
    "                saver.save(sess, checkpoint_dir + 'model', global_step = global_epoch)\n",
    "        \n",
    "        # Save and Print Processed Time\n",
    "        end = process_time() \n",
    "        print()\n",
    "        print(\"Time Elapased: \", end - start)\n",
    "        print()\n",
    "        \n",
    "        # Plot Loss Curve\n",
    "        final_costs = np.squeeze(costs)\n",
    "        plt.plot(final_costs)\n",
    "        plt.ylabel('Loss')\n",
    "        plt.xlabel('Epochs')\n",
    "        plt.title(\"Learning rate =\" + str(learning_rate))\n",
    "        plt.show()\n",
    "        \n",
    "        return 0"
   ]
  },
  {
   "cell_type": "code",
   "execution_count": 3,
   "metadata": {
    "scrolled": false
   },
   "outputs": [
    {
     "name": "stdout",
     "output_type": "stream",
     "text": [
      "number of examples:  99\n",
      "train_data.shape:  (590, 508)\n",
      "padded_proposals.shape:  (99, 500, 30)\n",
      "padded_framestamps.shape:  (99, 2, 30)\n",
      "Total number of words in all captions:  504895\n",
      "Vocabulary Size (Unique):  13001\n",
      "\n",
      "Restoring from latest checkpoint...\n",
<<<<<<< HEAD
      "INFO:tensorflow:Restoring parameters from /home/martnzjulio_a/checkpoints/model-526\n",
      "\n",
      "Loss after epoch 527: 332.994263\n",
      "Saving Checkpoint for global_step 527\n",
      "Loss after epoch 528: 330.688626\n",
      "Loss after epoch 529: 330.376007\n",
      "Loss after epoch 530: 330.122140\n",
      "Loss after epoch 531: 330.335882\n",
      "Loss after epoch 532: 330.064750\n",
      "Loss after epoch 533: 329.756844\n",
      "Loss after epoch 534: 329.433721\n",
      "Loss after epoch 535: 329.304169\n",
      "Loss after epoch 536: 329.227095\n",
      "Loss after epoch 537: 329.074271\n",
      "Loss after epoch 538: 328.955591\n",
      "Loss after epoch 539: 328.892603\n",
      "Loss after epoch 540: 328.959742\n",
      "Loss after epoch 541: 328.723591\n",
      "Loss after epoch 542: 328.603294\n",
      "Loss after epoch 543: 328.494709\n",
      "Loss after epoch 544: 328.415208\n",
      "Loss after epoch 545: 328.309925\n",
      "Loss after epoch 546: 328.229778\n",
      "Loss after epoch 547: 328.186057\n",
      "Saving Checkpoint for global_step 547\n",
      "Loss after epoch 548: 328.118267\n",
      "Loss after epoch 549: 328.068526\n",
      "Loss after epoch 550: 327.953713\n",
      "Loss after epoch 551: 327.852778\n",
      "Loss after epoch 552: 327.702975\n",
      "Loss after epoch 553: 327.610432\n",
      "Loss after epoch 554: 327.515625\n",
      "Loss after epoch 555: 327.438848\n",
      "Loss after epoch 556: 327.421725\n",
      "Loss after epoch 557: 327.353033\n",
      "Loss after epoch 558: 327.289856\n",
      "Loss after epoch 559: 327.191226\n",
      "Loss after epoch 560: 327.146043\n",
      "Loss after epoch 561: 327.143183\n",
      "Loss after epoch 562: 327.053109\n",
      "Loss after epoch 563: 327.042361\n",
      "Loss after epoch 564: 326.982541\n",
      "Loss after epoch 565: 326.903240\n",
      "Loss after epoch 566: 326.865151\n",
      "Loss after epoch 567: 326.793784\n",
      "Saving Checkpoint for global_step 567\n",
      "Loss after epoch 568: 326.758598\n",
      "Loss after epoch 569: 326.711048\n",
      "Loss after epoch 570: 326.654228\n",
      "Loss after epoch 571: 326.578100\n",
      "Loss after epoch 572: 326.501493\n",
      "Loss after epoch 573: 326.402985\n",
      "Loss after epoch 574: 326.362310\n",
      "Loss after epoch 575: 326.255945\n",
      "Loss after epoch 576: 326.178034\n"
     ]
    },
    {
     "ename": "KeyboardInterrupt",
     "evalue": "",
     "output_type": "error",
     "traceback": [
      "\u001b[0;31m---------------------------------------------------------------------------\u001b[0m",
      "\u001b[0;31mKeyboardInterrupt\u001b[0m                         Traceback (most recent call last)",
      "\u001b[0;32m<ipython-input-18-d9e2b0f599e1>\u001b[0m in \u001b[0;36m<module>\u001b[0;34m()\u001b[0m\n\u001b[1;32m     31\u001b[0m \u001b[0mlearning_rate\u001b[0m \u001b[0;34m=\u001b[0m \u001b[0;36m0.0001\u001b[0m\u001b[0;34m\u001b[0m\u001b[0m\n\u001b[1;32m     32\u001b[0m \u001b[0mnum_epochs\u001b[0m \u001b[0;34m=\u001b[0m \u001b[0;36m1000\u001b[0m\u001b[0;34m\u001b[0m\u001b[0m\n\u001b[0;32m---> 33\u001b[0;31m \u001b[0mmodel\u001b[0m\u001b[0;34m(\u001b[0m\u001b[0mH\u001b[0m\u001b[0;34m,\u001b[0m \u001b[0mIpast\u001b[0m\u001b[0;34m,\u001b[0m \u001b[0mIfuture\u001b[0m\u001b[0;34m,\u001b[0m \u001b[0mYcaptions\u001b[0m\u001b[0;34m,\u001b[0m \u001b[0mXcaptions\u001b[0m\u001b[0;34m,\u001b[0m \u001b[0mlearning_rate\u001b[0m\u001b[0;34m,\u001b[0m \u001b[0mnum_epochs\u001b[0m\u001b[0;34m)\u001b[0m\u001b[0;34m\u001b[0m\u001b[0m\n\u001b[0m",
      "\u001b[0;32m<ipython-input-16-322a92598792>\u001b[0m in \u001b[0;36mmodel\u001b[0;34m(H_train, Ipast_train, Ifuture_train, Ycaptions_train, Xcaptions_train, learning_rate, num_epochs, print_cost)\u001b[0m\n\u001b[1;32m     92\u001b[0m \u001b[0;34m\u001b[0m\u001b[0m\n\u001b[1;32m     93\u001b[0m                 \u001b[0;31m# Run Session\u001b[0m\u001b[0;34m\u001b[0m\u001b[0;34m\u001b[0m\u001b[0m\n\u001b[0;32m---> 94\u001b[0;31m                 \u001b[0m_\u001b[0m \u001b[0;34m,\u001b[0m \u001b[0mminibatch_loss\u001b[0m\u001b[0;34m,\u001b[0m \u001b[0mtrain_summ\u001b[0m \u001b[0;34m=\u001b[0m \u001b[0msess\u001b[0m\u001b[0;34m.\u001b[0m\u001b[0mrun\u001b[0m\u001b[0;34m(\u001b[0m\u001b[0;34m[\u001b[0m\u001b[0moptimizer\u001b[0m\u001b[0;34m,\u001b[0m \u001b[0mspj\u001b[0m\u001b[0;34m.\u001b[0m\u001b[0mloss\u001b[0m\u001b[0;34m,\u001b[0m \u001b[0mtraining_summary\u001b[0m\u001b[0;34m]\u001b[0m\u001b[0;34m,\u001b[0m \u001b[0mfeed_dict\u001b[0m\u001b[0;34m=\u001b[0m\u001b[0;34m{\u001b[0m\u001b[0mspj\u001b[0m\u001b[0;34m.\u001b[0m\u001b[0m_H\u001b[0m\u001b[0;34m:\u001b[0m \u001b[0mminibatch_H\u001b[0m\u001b[0;34m,\u001b[0m \u001b[0mspj\u001b[0m\u001b[0;34m.\u001b[0m\u001b[0m_Ipast\u001b[0m\u001b[0;34m:\u001b[0m \u001b[0mminibatch_Ipast\u001b[0m\u001b[0;34m,\u001b[0m \u001b[0mspj\u001b[0m\u001b[0;34m.\u001b[0m\u001b[0m_Ifuture\u001b[0m\u001b[0;34m:\u001b[0m \u001b[0mminibatch_Ifuture\u001b[0m\u001b[0;34m,\u001b[0m \u001b[0mspj\u001b[0m\u001b[0;34m.\u001b[0m\u001b[0m_x\u001b[0m\u001b[0;34m:\u001b[0m \u001b[0mminibatch_Xcaptions\u001b[0m\u001b[0;34m,\u001b[0m \u001b[0mspj\u001b[0m\u001b[0;34m.\u001b[0m\u001b[0m_y\u001b[0m\u001b[0;34m:\u001b[0m \u001b[0mminibatch_Ycaptions\u001b[0m\u001b[0;34m}\u001b[0m\u001b[0;34m)\u001b[0m\u001b[0;34m\u001b[0m\u001b[0m\n\u001b[0m\u001b[1;32m     95\u001b[0m                 \u001b[0mepoch_loss\u001b[0m \u001b[0;34m+=\u001b[0m \u001b[0mminibatch_loss\u001b[0m \u001b[0;34m/\u001b[0m \u001b[0mnum_minibatches\u001b[0m\u001b[0;34m\u001b[0m\u001b[0m\n\u001b[1;32m     96\u001b[0m \u001b[0;34m\u001b[0m\u001b[0m\n",
      "\u001b[0;32m/home/shared/anaconda3/lib/python3.6/site-packages/tensorflow/python/client/session.py\u001b[0m in \u001b[0;36mrun\u001b[0;34m(self, fetches, feed_dict, options, run_metadata)\u001b[0m\n\u001b[1;32m    903\u001b[0m     \u001b[0;32mtry\u001b[0m\u001b[0;34m:\u001b[0m\u001b[0;34m\u001b[0m\u001b[0m\n\u001b[1;32m    904\u001b[0m       result = self._run(None, fetches, feed_dict, options_ptr,\n\u001b[0;32m--> 905\u001b[0;31m                          run_metadata_ptr)\n\u001b[0m\u001b[1;32m    906\u001b[0m       \u001b[0;32mif\u001b[0m \u001b[0mrun_metadata\u001b[0m\u001b[0;34m:\u001b[0m\u001b[0;34m\u001b[0m\u001b[0m\n\u001b[1;32m    907\u001b[0m         \u001b[0mproto_data\u001b[0m \u001b[0;34m=\u001b[0m \u001b[0mtf_session\u001b[0m\u001b[0;34m.\u001b[0m\u001b[0mTF_GetBuffer\u001b[0m\u001b[0;34m(\u001b[0m\u001b[0mrun_metadata_ptr\u001b[0m\u001b[0;34m)\u001b[0m\u001b[0;34m\u001b[0m\u001b[0m\n",
      "\u001b[0;32m/home/shared/anaconda3/lib/python3.6/site-packages/tensorflow/python/client/session.py\u001b[0m in \u001b[0;36m_run\u001b[0;34m(self, handle, fetches, feed_dict, options, run_metadata)\u001b[0m\n\u001b[1;32m   1138\u001b[0m     \u001b[0;32mif\u001b[0m \u001b[0mfinal_fetches\u001b[0m \u001b[0;32mor\u001b[0m \u001b[0mfinal_targets\u001b[0m \u001b[0;32mor\u001b[0m \u001b[0;34m(\u001b[0m\u001b[0mhandle\u001b[0m \u001b[0;32mand\u001b[0m \u001b[0mfeed_dict_tensor\u001b[0m\u001b[0;34m)\u001b[0m\u001b[0;34m:\u001b[0m\u001b[0;34m\u001b[0m\u001b[0m\n\u001b[1;32m   1139\u001b[0m       results = self._do_run(handle, final_targets, final_fetches,\n\u001b[0;32m-> 1140\u001b[0;31m                              feed_dict_tensor, options, run_metadata)\n\u001b[0m\u001b[1;32m   1141\u001b[0m     \u001b[0;32melse\u001b[0m\u001b[0;34m:\u001b[0m\u001b[0;34m\u001b[0m\u001b[0m\n\u001b[1;32m   1142\u001b[0m       \u001b[0mresults\u001b[0m \u001b[0;34m=\u001b[0m \u001b[0;34m[\u001b[0m\u001b[0;34m]\u001b[0m\u001b[0;34m\u001b[0m\u001b[0m\n",
      "\u001b[0;32m/home/shared/anaconda3/lib/python3.6/site-packages/tensorflow/python/client/session.py\u001b[0m in \u001b[0;36m_do_run\u001b[0;34m(self, handle, target_list, fetch_list, feed_dict, options, run_metadata)\u001b[0m\n\u001b[1;32m   1319\u001b[0m     \u001b[0;32mif\u001b[0m \u001b[0mhandle\u001b[0m \u001b[0;32mis\u001b[0m \u001b[0;32mNone\u001b[0m\u001b[0;34m:\u001b[0m\u001b[0;34m\u001b[0m\u001b[0m\n\u001b[1;32m   1320\u001b[0m       return self._do_call(_run_fn, feeds, fetches, targets, options,\n\u001b[0;32m-> 1321\u001b[0;31m                            run_metadata)\n\u001b[0m\u001b[1;32m   1322\u001b[0m     \u001b[0;32melse\u001b[0m\u001b[0;34m:\u001b[0m\u001b[0;34m\u001b[0m\u001b[0m\n\u001b[1;32m   1323\u001b[0m       \u001b[0;32mreturn\u001b[0m \u001b[0mself\u001b[0m\u001b[0;34m.\u001b[0m\u001b[0m_do_call\u001b[0m\u001b[0;34m(\u001b[0m\u001b[0m_prun_fn\u001b[0m\u001b[0;34m,\u001b[0m \u001b[0mhandle\u001b[0m\u001b[0;34m,\u001b[0m \u001b[0mfeeds\u001b[0m\u001b[0;34m,\u001b[0m \u001b[0mfetches\u001b[0m\u001b[0;34m)\u001b[0m\u001b[0;34m\u001b[0m\u001b[0m\n",
      "\u001b[0;32m/home/shared/anaconda3/lib/python3.6/site-packages/tensorflow/python/client/session.py\u001b[0m in \u001b[0;36m_do_call\u001b[0;34m(self, fn, *args)\u001b[0m\n\u001b[1;32m   1325\u001b[0m   \u001b[0;32mdef\u001b[0m \u001b[0m_do_call\u001b[0m\u001b[0;34m(\u001b[0m\u001b[0mself\u001b[0m\u001b[0;34m,\u001b[0m \u001b[0mfn\u001b[0m\u001b[0;34m,\u001b[0m \u001b[0;34m*\u001b[0m\u001b[0margs\u001b[0m\u001b[0;34m)\u001b[0m\u001b[0;34m:\u001b[0m\u001b[0;34m\u001b[0m\u001b[0m\n\u001b[1;32m   1326\u001b[0m     \u001b[0;32mtry\u001b[0m\u001b[0;34m:\u001b[0m\u001b[0;34m\u001b[0m\u001b[0m\n\u001b[0;32m-> 1327\u001b[0;31m       \u001b[0;32mreturn\u001b[0m \u001b[0mfn\u001b[0m\u001b[0;34m(\u001b[0m\u001b[0;34m*\u001b[0m\u001b[0margs\u001b[0m\u001b[0;34m)\u001b[0m\u001b[0;34m\u001b[0m\u001b[0m\n\u001b[0m\u001b[1;32m   1328\u001b[0m     \u001b[0;32mexcept\u001b[0m \u001b[0merrors\u001b[0m\u001b[0;34m.\u001b[0m\u001b[0mOpError\u001b[0m \u001b[0;32mas\u001b[0m \u001b[0me\u001b[0m\u001b[0;34m:\u001b[0m\u001b[0;34m\u001b[0m\u001b[0m\n\u001b[1;32m   1329\u001b[0m       \u001b[0mmessage\u001b[0m \u001b[0;34m=\u001b[0m \u001b[0mcompat\u001b[0m\u001b[0;34m.\u001b[0m\u001b[0mas_text\u001b[0m\u001b[0;34m(\u001b[0m\u001b[0me\u001b[0m\u001b[0;34m.\u001b[0m\u001b[0mmessage\u001b[0m\u001b[0;34m)\u001b[0m\u001b[0;34m\u001b[0m\u001b[0m\n",
      "\u001b[0;32m/home/shared/anaconda3/lib/python3.6/site-packages/tensorflow/python/client/session.py\u001b[0m in \u001b[0;36m_run_fn\u001b[0;34m(feed_dict, fetch_list, target_list, options, run_metadata)\u001b[0m\n\u001b[1;32m   1310\u001b[0m       \u001b[0mself\u001b[0m\u001b[0;34m.\u001b[0m\u001b[0m_extend_graph\u001b[0m\u001b[0;34m(\u001b[0m\u001b[0;34m)\u001b[0m\u001b[0;34m\u001b[0m\u001b[0m\n\u001b[1;32m   1311\u001b[0m       return self._call_tf_sessionrun(\n\u001b[0;32m-> 1312\u001b[0;31m           options, feed_dict, fetch_list, target_list, run_metadata)\n\u001b[0m\u001b[1;32m   1313\u001b[0m \u001b[0;34m\u001b[0m\u001b[0m\n\u001b[1;32m   1314\u001b[0m     \u001b[0;32mdef\u001b[0m \u001b[0m_prun_fn\u001b[0m\u001b[0;34m(\u001b[0m\u001b[0mhandle\u001b[0m\u001b[0;34m,\u001b[0m \u001b[0mfeed_dict\u001b[0m\u001b[0;34m,\u001b[0m \u001b[0mfetch_list\u001b[0m\u001b[0;34m)\u001b[0m\u001b[0;34m:\u001b[0m\u001b[0;34m\u001b[0m\u001b[0m\n",
      "\u001b[0;32m/home/shared/anaconda3/lib/python3.6/site-packages/tensorflow/python/client/session.py\u001b[0m in \u001b[0;36m_call_tf_sessionrun\u001b[0;34m(self, options, feed_dict, fetch_list, target_list, run_metadata)\u001b[0m\n\u001b[1;32m   1418\u001b[0m         return tf_session.TF_Run(\n\u001b[1;32m   1419\u001b[0m             \u001b[0mself\u001b[0m\u001b[0;34m.\u001b[0m\u001b[0m_session\u001b[0m\u001b[0;34m,\u001b[0m \u001b[0moptions\u001b[0m\u001b[0;34m,\u001b[0m \u001b[0mfeed_dict\u001b[0m\u001b[0;34m,\u001b[0m \u001b[0mfetch_list\u001b[0m\u001b[0;34m,\u001b[0m \u001b[0mtarget_list\u001b[0m\u001b[0;34m,\u001b[0m\u001b[0;34m\u001b[0m\u001b[0m\n\u001b[0;32m-> 1420\u001b[0;31m             status, run_metadata)\n\u001b[0m\u001b[1;32m   1421\u001b[0m \u001b[0;34m\u001b[0m\u001b[0m\n\u001b[1;32m   1422\u001b[0m   \u001b[0;32mdef\u001b[0m \u001b[0m_call_tf_sessionprun\u001b[0m\u001b[0;34m(\u001b[0m\u001b[0mself\u001b[0m\u001b[0;34m,\u001b[0m \u001b[0mhandle\u001b[0m\u001b[0;34m,\u001b[0m \u001b[0mfeed_dict\u001b[0m\u001b[0;34m,\u001b[0m \u001b[0mfetch_list\u001b[0m\u001b[0;34m)\u001b[0m\u001b[0;34m:\u001b[0m\u001b[0;34m\u001b[0m\u001b[0m\n",
      "\u001b[0;31mKeyboardInterrupt\u001b[0m: "
     ]
=======
      "INFO:tensorflow:Restoring parameters from /home/songzeli/checkpoints/model-11\n",
      "\n",
      "Loss after epoch 0: 10851.162731\n",
      "Saving Checkpoint for global_step <tf.Variable 'global_step:0' shape=() dtype=int32_ref>\n",
      "Loss after epoch 1: 9229.129972\n",
      "Loss after epoch 2: 8386.120783\n",
      "Loss after epoch 3: 8058.012163\n",
      "Loss after epoch 4: 7860.436657\n",
      "\n",
      "Time Elapased:  2974.442872654\n",
      "\n"
     ]
    },
    {
     "data": {
      "image/png": "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\n",
      "text/plain": [
       "<matplotlib.figure.Figure at 0x7fe425254e80>"
      ]
     },
     "metadata": {},
     "output_type": "display_data"
    },
    {
     "data": {
      "text/plain": [
       "0"
      ]
     },
     "execution_count": 3,
     "metadata": {},
     "output_type": "execute_result"
>>>>>>> 71d9efd24072a82196d0f89bd272957a5f4e30e4
    }
   ],
   "source": [
    "# Load Training Data\n",
    "train_ids,train_data,padded_proposals,padded_framestamps = video_preprocess()\n",
    "\n",
    "# Get word2id and sentences\n",
    "embedding_size =512\n",
    "vocabulary,vocab_size = caption_preprocess()\n",
    "emb_matrix,word2id,id2word = get_wordvector(embedding_size,vocab_size,vocabulary)\n",
    "pad_len = 50\n",
    "all_padded_sentences,all_padded_sentences_2,all_padded_sentences_id = get_padded_sentences_id(pad_len,train_ids, train_data, word2id)     \n",
    "\n",
    "sentence_ids = all_padded_sentences_id\n",
    "Ycaptions = copy.deepcopy(all_padded_sentences_2) \n",
    "Xcaptions = copy.deepcopy(all_padded_sentences)\n",
    "Xcaptions = np.transpose(Xcaptions,axes=(0,2,1)).astype(np.int32)\n",
    "Ycaptions = np.transpose(Ycaptions,axes=(0,2,1)).astype(np.int32)\n",
    "\n",
    "# Input Features\n",
    "H = padded_proposals.astype(np.float32)\n",
    "\n",
    "# Input Framstamps [f_init, f_end]\n",
    "framestamps = padded_framestamps\n",
    "\n",
    "# Input Indicators for past and future\n",
    "Ipast = temporal_indicator(framestamps, mode=\"past\").astype(np.float32)\n",
    "Ifuture = temporal_indicator(framestamps, mode=\"future\").astype(np.float32)\n",
    "\n",
    "# Word Embedding Matrix\n",
    "emb_matrix, word2id, id2word = get_wordvector(embedding_size,vocab_size,vocabulary) #changed by Songze\n",
    "\n",
    "# Train Model\n",
    "# learning_rate = 0.001 # first 527 epochs\n",
    "learning_rate = 0.0001\n",
    "num_epochs = 1000\n",
    "model(H, Ipast, Ifuture, Ycaptions, Xcaptions, learning_rate, num_epochs)"
   ]
  },
  {
   "cell_type": "code",
   "execution_count": null,
   "metadata": {},
   "outputs": [],
   "source": [
    "logits = sess.run([spj.logits], \n",
    "                  feed_dict={spj._H: minibatch_H, spj._Ipast: minibatch_Ipast, spj._Ifuture: minibatch_Ifuture, spj._x: minibatch_Xcaptions, spj._y: minibatch_Ycaptions})"
   ]
  }
 ],
 "metadata": {
  "kernelspec": {
   "display_name": "Python 3",
   "language": "python",
   "name": "python3"
  },
  "language_info": {
   "codemirror_mode": {
    "name": "ipython",
    "version": 3
   },
   "file_extension": ".py",
   "mimetype": "text/x-python",
   "name": "python",
   "nbconvert_exporter": "python",
   "pygments_lexer": "ipython3",
   "version": "3.6.4"
  }
 },
 "nbformat": 4,
 "nbformat_minor": 2
}
