{
 "cells": [
  {
   "cell_type": "code",
   "execution_count": 28,
   "metadata": {},
   "outputs": [
    {
     "name": "stdout",
     "output_type": "stream",
     "text": [
      "The autoreload extension is already loaded. To reload it, use:\n",
      "  %reload_ext autoreload\n"
     ]
    }
   ],
   "source": [
    "# As usual, a bit of setup\n",
    "import time\n",
    "import numpy as np\n",
    "import matplotlib.pyplot as plt\n",
    "import LOUPE.WILLOW.loupe as lp\n",
    "import tensorflow as tf\n",
    "import h5py\n",
    "import pandas as pd\n",
    "\n",
    "%matplotlib inline\n",
    "plt.rcParams['figure.figsize'] = (10.0, 8.0) # set default size of plots\n",
    "plt.rcParams['image.interpolation'] = 'nearest'\n",
    "plt.rcParams['image.cmap'] = 'gray'\n",
    "\n",
    "# for auto-reloading external modules\n",
    "# see http://stackoverflow.com/questions/1907993/autoreload-of-modules-in-ipython\n",
    "%load_ext autoreload\n",
    "%autoreload 2"
   ]
  },
  {
   "cell_type": "code",
   "execution_count": 155,
   "metadata": {},
   "outputs": [
    {
     "name": "stdout",
     "output_type": "stream",
     "text": [
      "v_--0edUL8zmA\n",
      "286\n",
      "v_hHiPEAiYKv0\n",
      "310\n",
      "v_u2uoYvo8J5s\n",
      "780\n",
      "v_c_NlYvL96y0\n",
      "468\n",
      "v_sJFgo9H6zNo\n",
      "519\n"
     ]
    }
   ],
   "source": [
    "def temporal_pooling(C3D_Features,mode=\"max\"):\n",
    "    if mode==\"max\":\n",
    "        h = np.max(C3D_Features,axis=0)  \n",
    "    elif mode==\"average\":\n",
    "        h = np.mean(C3D_Features,axis=0) \n",
    "    return h\n",
    "\n",
    "\n",
    "#train_ids = [line.strip() for line in open(\"id_data/train_ids.csv\", 'r')]\n",
    "filename = \"c3d_data/sub_activitynet_v1-3.c3d.hdf5\"\n",
    "video_feature_representation = h5py.File(filename, 'r')\n",
    "train_ids = [\"v_--0edUL8zmA\",\"v_hHiPEAiYKv0\",\"v_u2uoYvo8J5s\",\"v_c_NlYvL96y0\",\"v_sJFgo9H6zNo\"]\n",
    "video_data = dict()\n",
    "for videoid in train_ids:\n",
    "    print(videoid)\n",
    "    proposals_df = pd.read_csv('prop_data/' + videoid + '.csv',sep=' ')\n",
    "    c3d_features = video_feature_representation[videoid]['c3d_features'].value\n",
    "    max_frames = c3d_features.shape[0]\n",
    "    print(max_frames)\n",
    "    \n",
    "    for i in range(proposals_df.shape[0]):\n",
    "        f_init = proposals_df[\"f-init\"][i]\n",
    "        f_end =  proposals_df[\"f-end\"][i]\n",
    "        if (f_init < max_frames) and (f_end > 0):\n",
    "            if f_init < 0:\n",
    "                f_init = 0\n",
    "            if f_end > max_frames:\n",
    "                f_end = max_frames\n",
    "        \n",
    "            #print((f_init,f_end))\n",
    "            #print(c3d_features[f_init:f_end,:].shape)\n",
    "            h = temporal_pooling(c3d_features[f_init:f_end,:], mode=\"max\")\n",
    "            if i == 0:\n",
    "                H = h\n",
    "            else:\n",
    "                H = np.column_stack((H,h))\n",
    "        else:\n",
    "            proposals_df.drop(proposals_df.index[i])\n",
    "    video_data[videoid] = H\n",
    "    "
   ]
  }
 ],
 "metadata": {
  "kernelspec": {
   "display_name": "Python 3",
   "language": "python",
   "name": "python3"
  },
  "language_info": {
   "codemirror_mode": {
    "name": "ipython",
    "version": 3
   },
   "file_extension": ".py",
   "mimetype": "text/x-python",
   "name": "python",
   "nbconvert_exporter": "python",
   "pygments_lexer": "ipython3",
   "version": "3.6.4"
  }
 },
 "nbformat": 4,
 "nbformat_minor": 2
}
