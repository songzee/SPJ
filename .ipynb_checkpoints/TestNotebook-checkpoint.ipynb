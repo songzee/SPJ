{
 "cells": [
  {
   "cell_type": "markdown",
   "metadata": {},
   "source": [
    "# Imports"
   ]
  },
  {
   "cell_type": "code",
   "execution_count": 2,
   "metadata": {},
   "outputs": [
    {
     "name": "stdout",
     "output_type": "stream",
     "text": [
      "The autoreload extension is already loaded. To reload it, use:\n",
      "  %reload_ext autoreload\n"
     ]
    }
   ],
   "source": [
    "# As usual, a bit of setup\n",
    "import time\n",
    "from time import process_time\n",
    "import numpy as np\n",
    "import matplotlib.pyplot as plt\n",
    "import LOUPE.WILLOW.loupe as lp\n",
    "import tensorflow as tf\n",
    "import h5py\n",
    "import pandas as pd\n",
    "import csv\n",
    "import copy\n",
    "import math\n",
    "from utils.data_utils import *\n",
    "import sys\n",
    "import re\n",
    "from utils.spj import Config\n",
    "from utils.spj import SPJ\n",
    "%matplotlib inline\n",
    "plt.rcParams['figure.figsize'] = (10.0, 8.0) # set default size of plots\n",
    "plt.rcParams['image.interpolation'] = 'nearest'\n",
    "plt.rcParams['image.cmap'] = 'gray'\n",
    "\n",
    "# for auto-reloading external modules\n",
    "# see http://stackoverflow.com/questions/1907993/autoreload-of-modules-in-ipython\n",
    "%load_ext autoreload\n",
    "%autoreload 2"
   ]
  },
  {
   "cell_type": "markdown",
   "metadata": {},
   "source": [
    "# Specify Model Directory"
   ]
  },
  {
   "cell_type": "code",
   "execution_count": 3,
   "metadata": {},
   "outputs": [
    {
     "name": "stdout",
     "output_type": "stream",
     "text": [
      "\n",
      "DIRECTORY SET TO:  /home/martnzjulio_a/songze\n",
      "VERSION SET TO  :  overfit\n"
     ]
    }
   ],
   "source": [
    "home_dir = \"/home/martnzjulio_a/songze\"\n",
    "#home_dir = \"/home/songzeli\"\n",
    "version = \"overfit\"\n",
    "minibatch_size = 1\n",
    "\n",
    "print()\n",
    "print(\"DIRECTORY SET TO: \", home_dir)\n",
    "print(\"VERSION SET TO  : \", version)"
   ]
  },
  {
   "cell_type": "markdown",
   "metadata": {},
   "source": [
    "# Load Vocab"
   ]
  },
  {
   "cell_type": "code",
   "execution_count": 4,
   "metadata": {},
   "outputs": [
    {
     "name": "stdout",
     "output_type": "stream",
     "text": [
      "Total number of words in all captions:  532264\n",
      "Vocabulary Size (Unique):  11125\n"
     ]
    }
   ],
   "source": [
    "# Load Vocabulary\n",
    "embedding_size =512\n",
    "pad_len, num_steps = 50, 50\n",
    "vocabulary,vocab_size = caption_preprocess(home_dir)\n",
    "emb_matrix,word2id,id2word = get_wordvector(embedding_size,vocab_size,vocabulary)\n",
    "num_classes = len(word2id)\n",
    "\n",
    "# Word Embedding Matrix\n",
    "emb_matrix, word2id, id2word = get_wordvector(embedding_size,vocab_size,vocabulary) #changed by Songze"
   ]
  },
  {
   "cell_type": "markdown",
   "metadata": {},
   "source": [
    "# Load Test Data"
   ]
  },
  {
   "cell_type": "code",
   "execution_count": 6,
   "metadata": {},
   "outputs": [
    {
     "name": "stdout",
     "output_type": "stream",
     "text": [
      "Number of Test Examples: 299\n",
      "\n",
      "VideoIds_test.shape:  (299,)\n",
      "Framestamps_test.shape:  (299, 2, 30)\n",
      "Xcaptions_test.shape:  (299, 30, 50)\n",
      "Ycaptions_test.shape:  (299, 30, 50)\n",
      "H_test.shape:  (299, 500, 30)\n",
      "Ipast_test.shape:  (299, 30, 30)\n",
      "Ifuture_test.shape:  (299, 30, 30)\n",
      "\n"
     ]
    }
   ],
   "source": [
    "# Load Test Data\n",
    "test_file = home_dir + \"/SPJ/train_test_300.csv\"\n",
    "test_ids,test_data,test_padded_proposals,test_padded_framestamps = video_preprocess(home_dir, test_file)\n",
    "\n",
    "# Test Captions\n",
    "test_padded_sentences,test_padded_sentences_2,test_padded_sentences_id = get_padded_sentences_id(pad_len, test_ids, test_data, word2id) \n",
    "Ycaptions_test = np.transpose(copy.deepcopy(test_padded_sentences_2),axes=(0,2,1)).astype(np.int32)\n",
    "Ycaptions_test = Ycaptions_test[:,:,1:]\n",
    "Xcaptions_test = np.transpose(copy.deepcopy(test_padded_sentences),axes=(0,2,1)).astype(np.int32)\n",
    "\n",
    "\n",
    "# Test Features \n",
    "VideoIds_test = test_ids\n",
    "Framestamps_test = test_padded_framestamps\n",
    "H_train = test_padded_proposals.astype(np.float32)\n",
    "Ipast_test = temporal_indicator(test_padded_framestamps, mode=\"past\").astype(np.float32)\n",
    "Ifuture_test = temporal_indicator(test_padded_framestamps, mode=\"future\").astype(np.float32)\n",
    "\n",
    "num_test = len(test_ids)\n",
    "print(\"Number of Test Examples:\", num_test)\n",
    "print()\n",
    "print(\"VideoIds_test.shape: \", VideoIds_test.shape)\n",
    "print(\"Framestamps_test.shape: \", Framestamps_test.shape)\n",
    "print(\"Xcaptions_test.shape: \", Xcaptions_test.shape)\n",
    "print(\"Ycaptions_test.shape: \", Ycaptions_test.shape)\n",
    "print(\"H_test.shape: \", H_train.shape)\n",
    "print(\"Ipast_test.shape: \", Ipast_test.shape)\n",
    "print(\"Ifuture_test.shape: \", Ifuture_test.shape)\n",
    "print()"
   ]
  },
  {
   "cell_type": "markdown",
   "metadata": {},
   "source": [
    "# Generate Captions (Sample)"
   ]
  },
  {
   "cell_type": "code",
   "execution_count": null,
   "metadata": {},
   "outputs": [],
   "source": [
    "tf.set_random_seed(1)                             \n",
    "seed = 3            \n",
    "from utils.data_utils import *\n",
    "\n",
    "tf.reset_default_graph()\n",
    "config = Config()\n",
    "spj = SPJ(config)\n",
    "global_step = tf.Variable(0, name='global_step', trainable=False)\n",
    "checkpoint_dir = \"/home/martnzjulio_a/songze/checkpoints3/\"\n",
    "latest_checkpoint = tf.train.latest_checkpoint(checkpoint_dir)\n",
    "saver = tf.train.Saver()\n",
    "optimizer = tf.train.AdamOptimizer(learning_rate = learning_rate).minimize(spj.loss, global_step=global_step)\n",
    "train_minibatches = random_mini_batches(H_train, Ipast_train, Ifuture_train, Ycaptions_train, Xcaptions_train, minibatch_size, seed)\n",
    "(minibatch_H_train, minibatch_Ipast_train, minibatch_Ifuture_train, minibatch_Ycaptions_train, minibatch_Xcaptions_train) = train_minibatches[0]   \n",
    "with tf.Session() as sess:   \n",
    "    saver.restore(sess, latest_checkpoint)\n",
    "    word_id = spj.caption_generation(sess,minibatch_H_train, minibatch_Ipast_train, minibatch_Ifuture_train, minibatch_Xcaptions_train, minibatch_Ycaptions_train)\n",
    "print (\"word_id: \", word_id)"
   ]
  },
  {
   "cell_type": "markdown",
   "metadata": {},
   "source": [
    "# Generation Captions (Direct)"
   ]
  },
  {
   "cell_type": "code",
   "execution_count": null,
   "metadata": {},
   "outputs": [],
   "source": [
    "def setup_graph_and_saver(learning_rate):\n",
    "    tf.reset_default_graph()    \n",
    "    tf.set_random_seed(1)                             \n",
    "    seed = 3 \n",
    "    global_step = tf.Variable(0, name='global_step', trainable=False)\n",
    "    config = Config()\n",
    "    spj = SPJ(config)\n",
    "    optimizer = tf.train.AdamOptimizer(learning_rate = learning_rate).minimize(spj.loss, global_step=global_step)\n",
    "    init = tf.global_variables_initializer()\n",
    "    saver = tf.train.Saver()\n",
    "    return spj, saver, global_step, optimizer, init, seed\n",
    "\n",
    "def direct_caption_generation(data, learning_rate, minibatch_size, home_dir, version):\n",
    "\n",
    "    # Extract Test Data\n",
    "    (VideoIds, Framestamps, H, Ipast, Ifuture, Ycaptions, Xcaptions) = data\n",
    "    num_data = H.shape[0]\n",
    "    \n",
    "    # Setup Graph\n",
    "    spj, saver, global_step, optimizer, init, seed = setup_graph_and_saver(learning_rate)\n",
    "    \n",
    "    # Directory Where Saved Checkpoint\n",
    "    checkpoint_dir = home_dir + \"/checkpoints_\" + str(version) + \"/\"\n",
    "    \n",
    "    # Start Session\n",
    "    with tf.Session() as sess:\n",
    "\n",
    "        # Check for Latest Checkpoint\n",
    "        latest_checkpoint = tf.train.latest_checkpoint(checkpoint_dir)\n",
    "        print(\"Restoring from latest checkpoint...\")\n",
    "        saver.restore(sess, latest_checkpoint)\n",
    "        \n",
    "        # Get minibatches\n",
    "        num_minibatches = num_data // minibatch_size  \n",
    "        seed = seed + 1\n",
    "        minibatches = random_mini_batches(VideoIds, Framestamps, H, Ipast, Ifuture, Ycaptions, Xcaptions, minibatch_size, seed) \n",
    "\n",
    "        # For all batchs\n",
    "        predictions = np.array([])\n",
    "        labels = np.array([])\n",
    "        for counter, minibatch in enumerate(minibatches):\n",
    "            # Select minibatch\n",
    "            (minibatch_VideoIds, minibatch_Framestamps, minibatch_H, minibatch_Ipast, minibatch_Ifuture, minibatch_Ycaptions, minibatch_Xcaptions) = minibatch\n",
    "            # Generate Captions\n",
    "            pred, lab = spj.generate_caption_2(sess, minibatch_H, minibatch_Ipast, minibatch_Ifuture, minibatch_Ycaptions)\n",
    "            if counter == 0:\n",
    "                predictions = pred\n",
    "                labels = lab\n",
    "                ids = minibatch_VideoIds\n",
    "            else:\n",
    "                predictions = np.concatenate((predictions,pred),axis=0)\n",
    "                labels = np.concatenate((labels,lab),axis=0)\n",
    "                ids = np.concatenate((ids, minibatch_VideoIds),axis=0)\n",
    "                \n",
    "    return predictions, labels, ids\n",
    "data = (VideoIds_train, Framestamps_train, H_train, Ipast_train, Ifuture_train, Ycaptions_train, Xcaptions_train)\n",
    "predictions, labels, ids = direct_caption_generation(data, learning_rate, minibatch_size,home_dir, version)\n",
    "\n"
   ]
  },
  {
   "cell_type": "code",
   "execution_count": null,
   "metadata": {},
   "outputs": [],
   "source": [
    "print_pred_and_labels(predictions, labels, ids, id2word, example=9, proposal=1)"
   ]
  },
  {
   "cell_type": "markdown",
   "metadata": {},
   "source": [
    "# Compute Bleu Evaluation"
   ]
  },
  {
   "cell_type": "code",
   "execution_count": null,
   "metadata": {},
   "outputs": [],
   "source": [
    "labels # shape: (num_examples, num_proposals, num_steps + 1)\n",
    "predictions # shape: (num_examples, num_proposals, num_steps + 1)\n",
    "import nltk\n",
    "\n",
    "# for each example\n",
    "for i in num_examples:\n",
    "    \n",
    "    # for each proposal\n",
    "    for p in  num_proposals:\n",
    "        \n",
    "        # if row of pads skip\n",
    "        if sum(labels[i,p])==0:\n",
    "            break # skip\n",
    "        \n",
    "        reference = []\n",
    "        hypothesis = []\n",
    "        # extract reference from labels\n",
    "        for w in num_words:\n",
    "            reference.append(labels[i,p,w])\n",
    "            if labels[i,p,w] == 3:\n",
    "                break # stop\n",
    "                \n",
    "        # extract reference from predictions\n",
    "        for w in num_words:\n",
    "            hypothesis.append(predictions[i,p,w])\n",
    "            if labels[i,p,w] == 3:\n",
    "                break # stop\n",
    "        \n",
    "        # comute bleu score\n",
    "        weights_at_1 = (1.0)\n",
    "        weights_at_2 = (0.5, 0.5)\n",
    "        weights_at_3 = (0.33, 0.33, 0.33)\n",
    "        weights_at_4 = (0.25, 0.25, 0.25, 0.25)\n",
    "        bleu_at_1 = nltk.translate.bleu_score.sentence_bleu([reference], hypothesis, weights_at_1)\n",
    "        bleu_at_2 = nltk.translate.bleu_score.sentence_bleu([reference], hypothesis, weights_at_2)\n",
    "        bleu_at_3 = nltk.translate.bleu_score.sentence_bleu([reference], hypothesis, weights_at_3)\n",
    "        bleu_at_4 = nltk.translate.bleu_score.sentence_bleu([reference], hypothesis, weights_at_4)\n",
    "            \n",
    "            "
   ]
  },
  {
   "cell_type": "markdown",
   "metadata": {},
   "source": [
    "# Prediction w/ True Feed"
   ]
  },
  {
   "cell_type": "code",
   "execution_count": null,
   "metadata": {},
   "outputs": [],
   "source": [
    "def setup_graph_and_saver(learning_rate):\n",
    "    tf.reset_default_graph()    \n",
    "    tf.set_random_seed(1)                             \n",
    "    seed = 3 \n",
    "    global_step = tf.Variable(0, name='global_step', trainable=False)\n",
    "    config = Config()\n",
    "    spj = SPJ(config)\n",
    "    optimizer = tf.train.AdamOptimizer(learning_rate = learning_rate).minimize(spj.loss, global_step=global_step)\n",
    "    init = tf.global_variables_initializer()\n",
    "    saver = tf.train.Saver()\n",
    "    return spj, saver, global_step, optimizer, init, seed\n",
    "\n",
    "def direct_inference(data, learning_rate, minibatch_size,home_dir, version):\n",
    "\n",
    "    # Extract Test Data\n",
    "    (VideoIds, Framestamps, H, Ipast, Ifuture, Ycaptions, Xcaptions) = data\n",
    "    num_data = H.shape[0]\n",
    "    \n",
    "    # Setup Graph\n",
    "    spj, saver, global_step, optimizer, init, seed = setup_graph_and_saver(learning_rate)\n",
    "    # Directory Where Saved Checkpoint\n",
    "    checkpoint_dir = home_dir + \"/checkpoints_\" + str(version) + \"/\"\n",
    "    \n",
    "    # Start Session\n",
    "    with tf.Session() as sess:\n",
    "\n",
    "        # Check for Latest Checkpoint\n",
    "        latest_checkpoint = tf.train.latest_checkpoint(checkpoint_dir)\n",
    "        print(\"Restoring from latest checkpoint...\")\n",
    "        saver.restore(sess, latest_checkpoint)\n",
    "        \n",
    "        # Get minibatches\n",
    "        num_minibatches = num_data // minibatch_size  \n",
    "        seed = seed + 1\n",
    "        minibatches = random_mini_batches(VideoIds, Framestamps, H, Ipast, Ifuture, Ycaptions, Xcaptions, minibatch_size, seed) \n",
    "\n",
    "        # For all batchs\n",
    "        for counter, minibatch in enumerate(minibatches):\n",
    "            \n",
    "            # Select minibatch\n",
    "            (minibatch_VideoIds, minibatch_Framestamps, minibatch_H, minibatch_Ipast, minibatch_Ifuture, minibatch_Ycaptions, minibatch_Xcaptions) = minibatch\n",
    "            minibatch_Ycaptions = id_2_one_hot_void_padding(minibatch_Ycaptions, spj.config.num_classes, void_dim=0)\n",
    "            \n",
    "            # Feed\n",
    "            feed = {spj._H: minibatch_H,\n",
    "                    spj._Ipast: minibatch_Ipast,\n",
    "                    spj._Ifuture: minibatch_Ifuture,\n",
    "                    spj._x: minibatch_Xcaptions,\n",
    "                    spj._y: minibatch_Ycaptions,\n",
    "                    spj._keep_prob: 1.0}\n",
    "            \n",
    "            # Run Predictions\n",
    "            pred, lab = sess.run([spj._predictions, spj._y], feed_dict=feed) \n",
    "            lab = np.argmax(lab,axis=3)\n",
    "            \n",
    "            # Cache Results\n",
    "            if counter == 0:\n",
    "                predictions = pred\n",
    "                labels = lab\n",
    "                ids = minibatch_VideoIds\n",
    "            else:\n",
    "                predictions = np.concatenate((predictions,pred),axis=0)\n",
    "                labels = np.concatenate((labels,lab),axis=0)\n",
    "                ids = np.concatenate((ids, minibatch_VideoIds),axis=0)\n",
    "\n",
    "    return predictions, labels, ids\n",
    "data = (VideoIds_train, Framestamps_train, H_train, Ipast_train, Ifuture_train, Ycaptions_train, Xcaptions_train)\n",
    "predictions2, labels2, ids2 = direct_inference(data, learning_rate, minibatch_size,home_dir, version)"
   ]
  },
  {
   "cell_type": "code",
   "execution_count": null,
   "metadata": {},
   "outputs": [],
   "source": [
    "print_pred_and_labels(predictions2, labels2, ids2, id2word, example=0, proposal=3)"
   ]
  }
 ],
 "metadata": {
  "kernelspec": {
   "display_name": "Python 3",
   "language": "python",
   "name": "python3"
  },
  "language_info": {
   "codemirror_mode": {
    "name": "ipython",
    "version": 3
   },
   "file_extension": ".py",
   "mimetype": "text/x-python",
   "name": "python",
   "nbconvert_exporter": "python",
   "pygments_lexer": "ipython3",
   "version": "3.6.4"
  }
 },
 "nbformat": 4,
 "nbformat_minor": 2
}
