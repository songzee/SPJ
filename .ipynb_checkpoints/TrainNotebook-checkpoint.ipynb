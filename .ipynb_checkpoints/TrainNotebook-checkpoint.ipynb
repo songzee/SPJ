{
 "cells": [
  {
   "cell_type": "markdown",
   "metadata": {},
   "source": [
    "# Imports"
   ]
  },
  {
   "cell_type": "code",
   "execution_count": 2,
   "metadata": {},
   "outputs": [
    {
     "name": "stdout",
     "output_type": "stream",
     "text": [
      "The autoreload extension is already loaded. To reload it, use:\n",
      "  %reload_ext autoreload\n"
     ]
    }
   ],
   "source": [
    "# As usual, a bit of setup\n",
    "import time\n",
    "from time import process_time\n",
    "import numpy as np\n",
    "import matplotlib.pyplot as plt\n",
    "import LOUPE.WILLOW.loupe as lp\n",
    "import tensorflow as tf\n",
    "import h5py\n",
    "import pandas as pd\n",
    "import csv\n",
    "import copy\n",
    "import math\n",
    "from utils.data_utils import *\n",
    "import sys\n",
    "import re\n",
    "from utils.spj import Config\n",
    "from utils.spj import SPJ\n",
    "%matplotlib inline\n",
    "plt.rcParams['figure.figsize'] = (10.0, 8.0) # set default size of plots\n",
    "plt.rcParams['image.interpolation'] = 'nearest'\n",
    "plt.rcParams['image.cmap'] = 'gray'\n",
    "\n",
    "# for auto-reloading external modules\n",
    "# see http://stackoverflow.com/questions/1907993/autoreload-of-modules-in-ipython\n",
    "%load_ext autoreload\n",
    "%autoreload 2"
   ]
  },
  {
   "cell_type": "markdown",
   "metadata": {},
   "source": [
    "# Specify Model Directory"
   ]
  },
  {
   "cell_type": "code",
   "execution_count": 12,
   "metadata": {},
   "outputs": [
    {
     "name": "stdout",
     "output_type": "stream",
     "text": [
      "\n",
      "DIRECTORY SET TO:  /home/martnzjulio_a/songze\n",
      "VERSION SET TO  :  keep_drop_1\n"
     ]
    }
   ],
   "source": [
    "home_dir = \"/home/martnzjulio_a/songze\"\n",
    "#home_dir = \"/home/songzeli\"\n",
    "version = \"keep_drop_1\"\n",
    "minibatch_size = 1\n",
    "\n",
    "print()\n",
    "print(\"DIRECTORY SET TO: \", home_dir)\n",
    "print(\"VERSION SET TO  : \", version)"
   ]
  },
  {
   "cell_type": "markdown",
   "metadata": {},
   "source": [
    "# Load Vocabulary"
   ]
  },
  {
   "cell_type": "code",
   "execution_count": 4,
   "metadata": {},
   "outputs": [
    {
     "name": "stdout",
     "output_type": "stream",
     "text": [
      "Total number of words in all captions:  532264\n",
      "Vocabulary Size (Unique):  11125\n"
     ]
    }
   ],
   "source": [
    "# Load Vocabulary\n",
    "embedding_size =512\n",
    "pad_len, num_steps = 50, 50\n",
    "vocabulary,vocab_size = caption_preprocess(home_dir)\n",
    "emb_matrix,word2id,id2word = get_wordvector(embedding_size,vocab_size,vocabulary)\n",
    "num_classes = len(word2id)\n",
    "\n",
    "# Word Embedding Matrix\n",
    "emb_matrix, word2id, id2word = get_wordvector(embedding_size,vocab_size,vocabulary) #changed by Songze"
   ]
  },
  {
   "cell_type": "code",
   "execution_count": null,
   "metadata": {},
   "outputs": [],
   "source": []
  },
  {
   "cell_type": "markdown",
   "metadata": {},
   "source": [
    "# Load All Data"
   ]
  },
  {
   "cell_type": "code",
   "execution_count": 7,
   "metadata": {},
   "outputs": [
    {
     "name": "stdout",
     "output_type": "stream",
     "text": [
      "Number of Training Examples: 2392\n",
      "\n",
      "VideoIds_train.shape:  (2392,)\n",
      "Framestamps_train.shape:  (2392, 2, 30)\n",
      "Xcaptions_train.shape:  (2392, 30, 50)\n",
      "Ycaptions_train.shape:  (2392, 30, 50)\n",
      "H_train.shape:  (2392, 500, 30)\n",
      "Ipast_train.shape:  (2392, 30, 30)\n",
      "Ifuture_train.shape:  (2392, 30, 30)\n",
      "\n"
     ]
    }
   ],
   "source": [
    "# Load Training Data\n",
    "train_file = home_dir + \"/SPJ/train_2400.csv\"\n",
    "train_ids,train_data,train_padded_proposals,train_padded_framestamps = video_preprocess(home_dir, train_file)\n",
    "\n",
    "# Train Captions\n",
    "train_padded_sentences,train_padded_sentences_2,train_padded_sentences_id = get_padded_sentences_id(pad_len, train_ids, train_data, word2id) \n",
    "Ycaptions_train = np.transpose(copy.deepcopy(train_padded_sentences_2),axes=(0,2,1)).astype(np.int32)\n",
    "Ycaptions_train = Ycaptions_train[:,:,1:]\n",
    "Xcaptions_train = np.transpose(copy.deepcopy(train_padded_sentences),axes=(0,2,1)).astype(np.int32)\n",
    "\n",
    "\n",
    "# Train Features \n",
    "VideoIds_train = train_ids\n",
    "Framestamps_train = train_padded_framestamps\n",
    "H_train = train_padded_proposals.astype(np.float32)\n",
    "Ipast_train = temporal_indicator(train_padded_framestamps, mode=\"past\").astype(np.float32)\n",
    "Ifuture_train = temporal_indicator(train_padded_framestamps, mode=\"future\").astype(np.float32)\n",
    "\n",
    "num_train = len(train_ids)\n",
    "print(\"Number of Training Examples:\", num_train)\n",
    "print()\n",
    "print(\"VideoIds_train.shape: \", VideoIds_train.shape)\n",
    "print(\"Framestamps_train.shape: \", Framestamps_train.shape)\n",
    "print(\"Xcaptions_train.shape: \", Xcaptions_train.shape)\n",
    "print(\"Ycaptions_train.shape: \", Ycaptions_train.shape)\n",
    "print(\"H_train.shape: \", H_train.shape)\n",
    "print(\"Ipast_train.shape: \", Ipast_train.shape)\n",
    "print(\"Ifuture_train.shape: \", Ifuture_train.shape)\n",
    "print()"
   ]
  },
  {
   "cell_type": "code",
   "execution_count": 8,
   "metadata": {},
   "outputs": [
    {
     "name": "stdout",
     "output_type": "stream",
     "text": [
      "Number of Validation Examples: 300\n",
      "\n",
      "VideoIds_val.shape:  (300,)\n",
      "Framestamps_val.shape:  (300, 2, 30)\n",
      "Xcaptions_val.shape:  (300, 30, 50)\n",
      "Ycaptions_val.shape:  (300, 30, 50)\n",
      "H_val.shape:  (300, 500, 30)\n",
      "Ipast_val.shape:  (300, 30, 30)\n",
      "Ifuture_val.shape:  (300, 30, 30)\n",
      "\n"
     ]
    }
   ],
   "source": [
    "# Load Validation Data\n",
    "val_file = home_dir + \"/SPJ/train_val_300.csv\"\n",
    "val_ids,val_data,val_padded_proposals,val_padded_framestamps = video_preprocess(home_dir, val_file)\n",
    "\n",
    "# Train Captions\n",
    "val_padded_sentences,val_padded_sentences_2,val_padded_sentences_id = get_padded_sentences_id(pad_len, val_ids, val_data, word2id) \n",
    "Ycaptions_val = np.transpose(copy.deepcopy(val_padded_sentences_2),axes=(0,2,1)).astype(np.int32)\n",
    "Ycaptions_val = Ycaptions_val[:,:,1:]\n",
    "Xcaptions_val = np.transpose(copy.deepcopy(val_padded_sentences),axes=(0,2,1)).astype(np.int32)\n",
    "\n",
    "\n",
    "# Train Features \n",
    "VideoIds_val = val_ids\n",
    "Framestamps_val = val_padded_framestamps\n",
    "H_val = val_padded_proposals.astype(np.float32)\n",
    "Ipast_val = temporal_indicator(val_padded_framestamps, mode=\"past\").astype(np.float32)\n",
    "Ifuture_val = temporal_indicator(val_padded_framestamps, mode=\"future\").astype(np.float32)\n",
    "\n",
    "num_val = len(val_ids)\n",
    "print(\"Number of Validation Examples:\", num_val)\n",
    "print()\n",
    "print(\"VideoIds_val.shape: \", VideoIds_val.shape)\n",
    "print(\"Framestamps_val.shape: \", Framestamps_val.shape)\n",
    "print(\"Xcaptions_val.shape: \", Xcaptions_val.shape)\n",
    "print(\"Ycaptions_val.shape: \", Ycaptions_val.shape)\n",
    "print(\"H_val.shape: \", H_val.shape)\n",
    "print(\"Ipast_val.shape: \", Ipast_val.shape)\n",
    "print(\"Ifuture_val.shape: \", Ifuture_val.shape)\n",
    "print()"
   ]
  },
  {
   "cell_type": "markdown",
   "metadata": {},
   "source": [
    "# Training Function"
   ]
  },
  {
   "cell_type": "code",
   "execution_count": 13,
   "metadata": {},
   "outputs": [],
   "source": [
    "def model(all_train, all_val, starter_learning_rate, keep_prob, num_epochs, home_dir, version, print_cost = True):\n",
    "    \"\"\"\n",
    "    Implements a tensorflow neural network: C3D->ATTENTION->CAPTIONING\n",
    "    \n",
    "    Arguments:\n",
    "    H_train -- training set, of shape = [n_train,num_c3d_features,num_proposals]\n",
    "    Y_train -- caption labels, of shape = [n_train,num_proposals,num_steps+1]\n",
    "    H_test -- training set, of shape = [n_test,num_c3d_features,num_proposals]\n",
    "    Y_test -- caption labels, of shape = [n_test,num_proposals,num_steps+1]\n",
    "    learning_rate -- learning rate of the optimization\n",
    "    num_epochs -- number of epochs of the optimization loop\n",
    "    minibatch_size -- size of a minibatch\n",
    "    print_cost -- True to print the cost every 100 epochs\n",
    "    \n",
    "    Returns:\n",
    "    parameters -- parameters learnt by the model. They can then be used to predict.\n",
    "    \"\"\"\n",
    "    (VideoIds_train, Framestamps_train, H_train, Ipast_train, Ifuture_train, Ycaptions_train, Xcaptions_train) = all_train\n",
    "    (VideoIds_val, Framestamps_val, H_val,   Ipast_val,   Ifuture_val,   Ycaptions_val,   Xcaptions_val)   = all_val\n",
    "    \n",
    "    # Directory to Save Checkpoint\n",
    "    checkpoint_dir = home_dir + \"/checkpoints_\" + str(version) + \"/\"\n",
    "    tensorboard_dir =  home_dir + \"/tensorboard_\" + str(version) + \"/\"\n",
    "    print(\"Checkpoint directory: \", checkpoint_dir)\n",
    "    print(\"Tensorboard directory: \", tensorboard_dir)\n",
    "    \n",
    "    # Reset Graph\n",
    "    tf.reset_default_graph()    \n",
    "    \n",
    "    # For Consistency\n",
    "    tf.set_random_seed(1)                             \n",
    "    seed = 3                                         \n",
    "    \n",
    "    # Number of Training Examples\n",
    "    num_train = H_train.shape[0] \n",
    "    num_val = H_val.shape[0] \n",
    "    \n",
    "    # to keep track of costs\n",
    "    costs = []\n",
    "    \n",
    "    \n",
    "    # Model\n",
    "    config = Config()\n",
    "    spj = SPJ(config)\n",
    "    \n",
    "    # Print Hyperparameters\n",
    "    print()\n",
    "    print(\"Hyperparameters:\")\n",
    "    print(\"----------------\")\n",
    "    print(\"Starter Learning Rate: \", starter_learning_rate)\n",
    "    print(\"Number of Proposals: \", spj.config.num_proposals)\n",
    "    print(\"C3D Features Dim: \", spj.config.num_c3d_features )\n",
    "    print(\"Batch Size: \", spj.config.batch_size)\n",
    "    print(\"Dropout Keep Prob: \", keep_prob)\n",
    "    print(\"Vocab Size: \", spj.config.num_classes)\n",
    "    print(\"Number of LSTM Time Steps: \", spj.config.num_steps)\n",
    "    print(\"Word Embedding Size: \" , spj.config.hidden_dim)\n",
    "    print(\"LSTM Hidden Dim: \" , spj.config.hidden_dim)\n",
    "    print(\"LSTM Num Layers: \" , spj.config.num_layers)\n",
    "    \n",
    "    # Global Epoch Number\n",
    "    global_step = tf.Variable(0, name='global_step', trainable=False)\n",
    "\n",
    "    # Learning Rate Decay\n",
    "    learning_rate = tf.train.exponential_decay(\n",
    "        learning_rate = starter_learning_rate, \n",
    "        global_step = global_step,\n",
    "        decay_steps = 100000, \n",
    "        decay_rate = 0.96, \n",
    "        staircase=True)\n",
    "    \n",
    "    # Backpropagation: Define the tensorflow optimizer. Use an AdamOptimizer.\n",
    "    optimizer = tf.train.AdamOptimizer(learning_rate = learning_rate).minimize(spj.loss, global_step=global_step)\n",
    "    \n",
    "    # Passing global_step to minimize() will increment it at each step.\n",
    "    learning_step = (optimizer)\n",
    "    \n",
    "    # Initialize all the variables\n",
    "    init = tf.global_variables_initializer()\n",
    "    \n",
    "    # Add ops to save and restore all the variables.\n",
    "    saver = tf.train.Saver(max_to_keep=5)\n",
    "    \n",
    "    # Tensorboard Loss\n",
    "    training_summary = tf.summary.scalar(\"training_loss\", spj.loss)\n",
    "    validation_summary = tf.summary.scalar(\"validation_loss\", spj.loss)\n",
    "    #writer = tf.train.SummaryWriter(...)\n",
    "    \n",
    "\n",
    "    # Start the session to compute the tensorflow graph\n",
    "    with tf.Session() as sess:\n",
    "    \n",
    "        # check for latest checkpoint\n",
    "        latest_checkpoint = tf.train.latest_checkpoint(checkpoint_dir)\n",
    "        if latest_checkpoint == None:\n",
    "            # If no check point run the initialization\n",
    "            print()\n",
    "            print(\"No checkpoint exists, initializing parameters...\")\n",
    "            sess.run(init)\n",
    "        else:\n",
    "            print()\n",
    "            print(\"Restoring from latest checkpoint...\")\n",
    "            saver.restore(sess, latest_checkpoint)\n",
    "        \n",
    "        #Tensorboard\n",
    "        summary_writer = tf.summary.FileWriter(tensorboard_dir,sess.graph)\n",
    "        \n",
    "        # Training Loop\n",
    "        print()\n",
    "        start = process_time() # Record start time\n",
    "        for epoch in range(num_epochs):\n",
    "            \n",
    "            # Variable to store cost\n",
    "            epoch_train_loss = 0.0\n",
    "            epoch_val_loss = 0.0\n",
    "            train_losses = []\n",
    "            val_losses = []\n",
    "            \n",
    "            # Get minibatches\n",
    "            num_train_minibatches = num_train // spj.config.batch_size \n",
    "            num_val_minibatches = num_val // spj.config.batch_size \n",
    "            seed = seed + 1\n",
    "            train_minibatches = random_mini_batches(VideoIds_train, Framestamps_train, H_train, Ipast_train, Ifuture_train, Ycaptions_train, Xcaptions_train, spj.config.batch_size , seed)\n",
    "            val_minibatches = random_mini_batches(VideoIds_val, Framestamps_val, H_val, Ipast_val,   Ifuture_val,   Ycaptions_val,   Xcaptions_val,   spj.config.batch_size , seed)\n",
    "\n",
    "            for counter, train_minibatch in enumerate(train_minibatches):\n",
    "                \n",
    "                # Select minibatch\n",
    "                (minibatch_VideoIds_train, minibatch_Framestamps_train, minibatch_H_train, minibatch_Ipast_train, minibatch_Ifuture_train, minibatch_Ycaptions_train, minibatch_Xcaptions_train) = train_minibatch\n",
    "                minibatch_Ycaptions_train = id_2_one_hot_void_padding(minibatch_Ycaptions_train, spj.config.num_classes, void_dim=0)\n",
    "                \n",
    "                # Run Train Session\n",
    "                train_feed={spj._H: minibatch_H_train, \n",
    "                      spj._Ipast: minibatch_Ipast_train, \n",
    "                      spj._Ifuture: minibatch_Ifuture_train, \n",
    "                      spj._x: minibatch_Xcaptions_train, \n",
    "                      spj._y: minibatch_Ycaptions_train, \n",
    "                      spj._keep_prob: keep_prob}\n",
    "                _ , minibatch_train_loss, train_summ = sess.run([optimizer, spj.loss, training_summary], feed_dict=train_feed)\n",
    "                train_losses.append(minibatch_train_loss)\n",
    "                \n",
    "            for counter, val_minibatch in enumerate(val_minibatches):\n",
    "                \n",
    "                # Select minibatch\n",
    "                (minibatch_VideoIds_val, minibatch_Framestamps_val, minibatch_H_val, minibatch_Ipast_val, minibatch_Ifuture_val, minibatch_Ycaptions_val, minibatch_Xcaptions_val) = val_minibatch\n",
    "                minibatch_Ycaptions_val = id_2_one_hot_void_padding(minibatch_Ycaptions_val, spj.config.num_classes, void_dim=0)\n",
    "                \n",
    "                # Run Validation Session\n",
    "                val_feed={spj._H: minibatch_H_val, \n",
    "                          spj._Ipast: minibatch_Ipast_val, \n",
    "                          spj._Ifuture: minibatch_Ifuture_val, \n",
    "                          spj._x: minibatch_Xcaptions_val, \n",
    "                          spj._y: minibatch_Ycaptions_val, \n",
    "                          spj._keep_prob: 1.0}\n",
    "                minibatch_val_loss, val_summ = sess.run([spj.loss, validation_summary], feed_dict=val_feed) #\n",
    "                val_losses.append(minibatch_val_loss)\n",
    "            \n",
    "            epoch_train_loss = np.mean(train_losses)\n",
    "            epoch_val_loss = np.mean(val_losses)\n",
    "            \n",
    "            # Print cost\n",
    "            if print_cost == True:\n",
    "                global_epoch = tf.train.global_step(sess, global_step)//num_train_minibatches\n",
    "                print(\"Epoch: \", global_epoch)\n",
    "                print (\"Training Loss: \", epoch_train_loss)\n",
    "                print (\"Validation Loss: \", epoch_val_loss)\n",
    "                # Add and Write to Tensorboard\n",
    "                train_summary = tf.Summary()\n",
    "                val_summary = tf.Summary()\n",
    "                train_summary.value.add(tag=\"train_losss\", simple_value=epoch_train_loss)\n",
    "                train_summary.value.add(tag=\"val_losss\", simple_value=epoch_val_loss)\n",
    "                summary_writer.add_summary(train_summary, global_epoch)\n",
    "                summary_writer.add_summary(val_summary, global_epoch)\n",
    "\n",
    "            \n",
    "            # Save Model (every 20 epochs)\n",
    "            if global_epoch % 10 == 0:\n",
    "                print(\"Saving Checkpoint for global_step \" + str(global_epoch))\n",
    "                saver.save(sess, checkpoint_dir + 'model', global_step = global_epoch)\n",
    "        \n",
    "        # Save and Print Processed Time\n",
    "        end = process_time() \n",
    "        print()\n",
    "        print(\"Time Elapased: \", end - start)\n",
    "        \n",
    "        return 0"
   ]
  },
  {
   "cell_type": "markdown",
   "metadata": {},
   "source": [
    "# Run Training"
   ]
  },
  {
   "cell_type": "code",
   "execution_count": 14,
   "metadata": {},
   "outputs": [
    {
     "name": "stdout",
     "output_type": "stream",
     "text": [
      "Checkpoint directory:  /home/martnzjulio_a/songze/checkpoints_keep_drop_1/\n",
      "Tensorboard directory:  /home/martnzjulio_a/songze/tensorboard_keep_drop_1/\n",
      "\n",
      "Hyperparameters:\n",
      "----------------\n",
      "Starter Learning Rate:  0.001\n",
      "Number of Proposals:  30\n",
      "C3D Features Dim:  500\n",
      "Batch Size:  1\n",
      "Dropout Keep Prob:  1.0\n",
      "Vocab Size:  10194\n",
      "Number of LSTM Time Steps:  50\n",
      "Word Embedding Size:  512\n",
      "LSTM Hidden Dim:  512\n",
      "LSTM Num Layers:  2\n",
      "\n",
      "No checkpoint exists, initializing parameters...\n",
      "\n"
     ]
    },
    {
     "ename": "IndexError",
     "evalue": "index 10215 is out of bounds for axis 1 with size 10194",
     "output_type": "error",
     "traceback": [
      "\u001b[0;31m---------------------------------------------------------------------------\u001b[0m",
      "\u001b[0;31mIndexError\u001b[0m                                Traceback (most recent call last)",
      "\u001b[0;32m<ipython-input-14-8220af4ee741>\u001b[0m in \u001b[0;36m<module>\u001b[0;34m()\u001b[0m\n\u001b[1;32m      5\u001b[0m \u001b[0mall_train\u001b[0m \u001b[0;34m=\u001b[0m \u001b[0;34m(\u001b[0m\u001b[0mVideoIds_train\u001b[0m\u001b[0;34m,\u001b[0m \u001b[0mFramestamps_train\u001b[0m\u001b[0;34m,\u001b[0m \u001b[0mH_train\u001b[0m\u001b[0;34m,\u001b[0m \u001b[0mIpast_train\u001b[0m\u001b[0;34m,\u001b[0m \u001b[0mIfuture_train\u001b[0m\u001b[0;34m,\u001b[0m \u001b[0mYcaptions_train\u001b[0m\u001b[0;34m,\u001b[0m \u001b[0mXcaptions_train\u001b[0m\u001b[0;34m)\u001b[0m\u001b[0;34m\u001b[0m\u001b[0m\n\u001b[1;32m      6\u001b[0m \u001b[0mall_val\u001b[0m \u001b[0;34m=\u001b[0m   \u001b[0;34m(\u001b[0m\u001b[0mVideoIds_val\u001b[0m\u001b[0;34m,\u001b[0m \u001b[0mFramestamps_val\u001b[0m\u001b[0;34m,\u001b[0m \u001b[0mH_val\u001b[0m\u001b[0;34m,\u001b[0m   \u001b[0mIpast_val\u001b[0m\u001b[0;34m,\u001b[0m   \u001b[0mIfuture_val\u001b[0m\u001b[0;34m,\u001b[0m   \u001b[0mYcaptions_val\u001b[0m\u001b[0;34m,\u001b[0m   \u001b[0mXcaptions_val\u001b[0m\u001b[0;34m)\u001b[0m\u001b[0;34m\u001b[0m\u001b[0m\n\u001b[0;32m----> 7\u001b[0;31m \u001b[0mexecute\u001b[0m \u001b[0;34m=\u001b[0m \u001b[0mmodel\u001b[0m\u001b[0;34m(\u001b[0m\u001b[0mall_train\u001b[0m\u001b[0;34m,\u001b[0m \u001b[0mall_val\u001b[0m\u001b[0;34m,\u001b[0m \u001b[0mlearning_rate\u001b[0m\u001b[0;34m,\u001b[0m \u001b[0mkeep_prob\u001b[0m\u001b[0;34m,\u001b[0m \u001b[0mnum_epochs\u001b[0m\u001b[0;34m,\u001b[0m \u001b[0mhome_dir\u001b[0m\u001b[0;34m,\u001b[0m \u001b[0mversion\u001b[0m\u001b[0;34m)\u001b[0m\u001b[0;34m\u001b[0m\u001b[0m\n\u001b[0m",
      "\u001b[0;32m<ipython-input-13-0b91fbcc5c51>\u001b[0m in \u001b[0;36mmodel\u001b[0;34m(all_train, all_val, starter_learning_rate, keep_prob, num_epochs, home_dir, version, print_cost)\u001b[0m\n\u001b[1;32m    128\u001b[0m                 \u001b[0;31m# Select minibatch\u001b[0m\u001b[0;34m\u001b[0m\u001b[0;34m\u001b[0m\u001b[0m\n\u001b[1;32m    129\u001b[0m                 \u001b[0;34m(\u001b[0m\u001b[0mminibatch_VideoIds_train\u001b[0m\u001b[0;34m,\u001b[0m \u001b[0mminibatch_Framestamps_train\u001b[0m\u001b[0;34m,\u001b[0m \u001b[0mminibatch_H_train\u001b[0m\u001b[0;34m,\u001b[0m \u001b[0mminibatch_Ipast_train\u001b[0m\u001b[0;34m,\u001b[0m \u001b[0mminibatch_Ifuture_train\u001b[0m\u001b[0;34m,\u001b[0m \u001b[0mminibatch_Ycaptions_train\u001b[0m\u001b[0;34m,\u001b[0m \u001b[0mminibatch_Xcaptions_train\u001b[0m\u001b[0;34m)\u001b[0m \u001b[0;34m=\u001b[0m \u001b[0mtrain_minibatch\u001b[0m\u001b[0;34m\u001b[0m\u001b[0m\n\u001b[0;32m--> 130\u001b[0;31m                 \u001b[0mminibatch_Ycaptions_train\u001b[0m \u001b[0;34m=\u001b[0m \u001b[0mid_2_one_hot_void_padding\u001b[0m\u001b[0;34m(\u001b[0m\u001b[0mminibatch_Ycaptions_train\u001b[0m\u001b[0;34m,\u001b[0m \u001b[0mspj\u001b[0m\u001b[0;34m.\u001b[0m\u001b[0mconfig\u001b[0m\u001b[0;34m.\u001b[0m\u001b[0mnum_classes\u001b[0m\u001b[0;34m,\u001b[0m \u001b[0mvoid_dim\u001b[0m\u001b[0;34m=\u001b[0m\u001b[0;36m0\u001b[0m\u001b[0;34m)\u001b[0m\u001b[0;34m\u001b[0m\u001b[0m\n\u001b[0m\u001b[1;32m    131\u001b[0m \u001b[0;34m\u001b[0m\u001b[0m\n\u001b[1;32m    132\u001b[0m                 \u001b[0;31m# Run Train Session\u001b[0m\u001b[0;34m\u001b[0m\u001b[0;34m\u001b[0m\u001b[0m\n",
      "\u001b[0;32m~/songze/SPJ/utils/data_utils.py\u001b[0m in \u001b[0;36mid_2_one_hot_void_padding\u001b[0;34m(y, num_classes, void_dim)\u001b[0m\n\u001b[1;32m    395\u001b[0m     \u001b[0my\u001b[0m \u001b[0;34m=\u001b[0m \u001b[0my\u001b[0m\u001b[0;34m.\u001b[0m\u001b[0mflatten\u001b[0m\u001b[0;34m(\u001b[0m\u001b[0;34m)\u001b[0m\u001b[0;34m\u001b[0m\u001b[0m\n\u001b[1;32m    396\u001b[0m     \u001b[0mone_hot\u001b[0m \u001b[0;34m=\u001b[0m \u001b[0mnp\u001b[0m\u001b[0;34m.\u001b[0m\u001b[0mzeros\u001b[0m\u001b[0;34m(\u001b[0m\u001b[0;34m(\u001b[0m\u001b[0mbatchsize\u001b[0m\u001b[0;34m*\u001b[0m\u001b[0mdim1\u001b[0m\u001b[0;34m*\u001b[0m\u001b[0mdim2\u001b[0m\u001b[0;34m,\u001b[0m\u001b[0mnum_classes\u001b[0m\u001b[0;34m)\u001b[0m\u001b[0;34m)\u001b[0m\u001b[0;34m\u001b[0m\u001b[0m\n\u001b[0;32m--> 397\u001b[0;31m     \u001b[0mone_hot\u001b[0m\u001b[0;34m[\u001b[0m\u001b[0mnp\u001b[0m\u001b[0;34m.\u001b[0m\u001b[0marange\u001b[0m\u001b[0;34m(\u001b[0m\u001b[0mlen\u001b[0m\u001b[0;34m(\u001b[0m\u001b[0my\u001b[0m\u001b[0;34m)\u001b[0m\u001b[0;34m)\u001b[0m\u001b[0;34m,\u001b[0m \u001b[0my\u001b[0m\u001b[0;34m]\u001b[0m \u001b[0;34m=\u001b[0m \u001b[0;36m1.0\u001b[0m\u001b[0;34m\u001b[0m\u001b[0m\n\u001b[0m\u001b[1;32m    398\u001b[0m     \u001b[0;32mif\u001b[0m \u001b[0mvoid_dim\u001b[0m \u001b[0;34m>\u001b[0m \u001b[0;34m-\u001b[0m\u001b[0;36m1\u001b[0m\u001b[0;34m:\u001b[0m\u001b[0;34m\u001b[0m\u001b[0m\n\u001b[1;32m    399\u001b[0m         \u001b[0mone_hot\u001b[0m\u001b[0;34m[\u001b[0m\u001b[0;34m:\u001b[0m\u001b[0;34m,\u001b[0m\u001b[0mvoid_dim\u001b[0m\u001b[0;34m]\u001b[0m \u001b[0;34m=\u001b[0m \u001b[0;36m0.0\u001b[0m\u001b[0;34m\u001b[0m\u001b[0m\n",
      "\u001b[0;31mIndexError\u001b[0m: index 10215 is out of bounds for axis 1 with size 10194"
     ]
    }
   ],
   "source": [
    "# Train Model\n",
    "learning_rate = 0.001\n",
    "keep_prob = 1.0\n",
    "num_epochs = 1000\n",
    "all_train = (VideoIds_train, Framestamps_train, H_train, Ipast_train, Ifuture_train, Ycaptions_train, Xcaptions_train)\n",
    "all_val =   (VideoIds_val, Framestamps_val, H_val,   Ipast_val,   Ifuture_val,   Ycaptions_val,   Xcaptions_val)\n",
    "execute = model(all_train, all_val, learning_rate, keep_prob, num_epochs, home_dir, version)"
   ]
  },
  {
   "cell_type": "code",
   "execution_count": null,
   "metadata": {},
   "outputs": [],
   "source": []
  }
 ],
 "metadata": {
  "kernelspec": {
   "display_name": "Python 3",
   "language": "python",
   "name": "python3"
  },
  "language_info": {
   "codemirror_mode": {
    "name": "ipython",
    "version": 3
   },
   "file_extension": ".py",
   "mimetype": "text/x-python",
   "name": "python",
   "nbconvert_exporter": "python",
   "pygments_lexer": "ipython3",
   "version": "3.6.4"
  }
 },
 "nbformat": 4,
 "nbformat_minor": 2
}
