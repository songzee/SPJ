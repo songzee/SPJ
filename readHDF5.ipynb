{
 "cells": [
  {
   "cell_type": "code",
   "execution_count": 13,
   "metadata": {},
   "outputs": [
    {
     "name": "stdout",
     "output_type": "stream",
     "text": [
      "Number of videos in the container:  19994\n",
      "feat of 17613-th video: v_sJFgo9H6zNo\n",
      "shape of features: (519, 500)\n",
      "It should be a 2D array with the second axis == 500 for all the videos\n",
      "Note that the video_lst comes from a \".keys()\", thus the order of might change after every trial. However, I did not noticed that in my version of python and h5py.\n"
     ]
    }
   ],
   "source": [
    "import h5py    \n",
    "import numpy as np\n",
    "filename = 'Data/sub_activitynet_v1-3.c3d.hdf5'\n",
    "fid = h5py.File(filename, 'r')\n",
    "video_lst = list(fid.keys())\n",
    "print('Number of videos in the container: ', len(video_lst))\n",
    "ith = 17613\n",
    "print('feat of {}-th video: {}'.format(ith, video_lst[ith]))\n",
    "# This line clearly shows that the features are stored as Group/Dataset\n",
    "feat_video_ith = fid[video_lst[ith]]['c3d_features'][:]\n",
    "print('shape of features: {}'.format(feat_video_ith.shape))\n",
    "print('It should be a 2D array with the second axis == 500 for all the videos')\n",
    "\n",
    "print('Note that the video_lst comes from a \".keys()\", thus the order of might change after every trial. However, I did not noticed that in my version of python and h5py.')\n",
    "fid.close()\n"
   ]
  },
  {
   "cell_type": "code",
   "execution_count": 12,
   "metadata": {},
   "outputs": [
    {
     "name": "stdout",
     "output_type": "stream",
     "text": [
      "v_sJFgo9H6zNo\n",
      "17613\n"
     ]
    }
   ],
   "source": [
    "for i,video in enumerate (video_lst):\n",
    "    if \"v_sJFgo9H6zNo\" == video:\n",
    "        print(video)\n",
    "        print(i)"
   ]
  }
 ],
 "metadata": {
  "kernelspec": {
   "display_name": "Python 3",
   "language": "python",
   "name": "python3"
  },
  "language_info": {
   "codemirror_mode": {
    "name": "ipython",
    "version": 3
   },
   "file_extension": ".py",
   "mimetype": "text/x-python",
   "name": "python",
   "nbconvert_exporter": "python",
   "pygments_lexer": "ipython3",
   "version": "3.6.4"
  }
 },
 "nbformat": 4,
 "nbformat_minor": 2
}
